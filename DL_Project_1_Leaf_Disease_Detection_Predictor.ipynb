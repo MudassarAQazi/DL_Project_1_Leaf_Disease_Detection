{
  "nbformat": 4,
  "nbformat_minor": 0,
  "metadata": {
    "colab": {
      "provenance": [],
      "authorship_tag": "ABX9TyMbVpg4TQx2FpLdQX1Fix9R",
      "include_colab_link": true
    },
    "kernelspec": {
      "name": "python3",
      "display_name": "Python 3"
    },
    "language_info": {
      "name": "python"
    },
    "accelerator": "GPU",
    "gpuClass": "standard"
  },
  "cells": [
    {
      "cell_type": "markdown",
      "metadata": {
        "id": "view-in-github",
        "colab_type": "text"
      },
      "source": [
        "<a href=\"https://colab.research.google.com/github/MudassarAQazi/DL_Project_1_Leaf_Disease_Detection/blob/main/DL_Project_1_Leaf_Disease_Detection_Predictor.ipynb\" target=\"_parent\"><img src=\"https://colab.research.google.com/assets/colab-badge.svg\" alt=\"Open In Colab\"/></a>"
      ]
    },
    {
      "cell_type": "markdown",
      "metadata": {
        "id": "oM_8ELnJq_wd"
      },
      "source": [
        "## Enabling and testing the GPU\n",
        "\n",
        "First, you'll need to enable GPUs for the notebook:\n",
        "\n",
        "- Navigate to Edit→Notebook Settings\n",
        "- select GPU from the Hardware Accelerator drop-down\n",
        "\n",
        "Next, we'll confirm that we can connect to the GPU with tensorflow:"
      ]
    },
    {
      "cell_type": "code",
      "execution_count": null,
      "metadata": {
        "id": "9b0PcUekNELu"
      },
      "outputs": [],
      "source": [
        "import tensorflow as tf\n",
        "device_name = tf.test.gpu_device_name()\n",
        "if device_name != '/device:GPU:0':\n",
        "  raise SystemError('GPU device not found')\n",
        "print('Found GPU at: {}'.format(device_name))"
      ]
    },
    {
      "cell_type": "markdown",
      "metadata": {
        "id": "v3fE7KmKRDsH"
      },
      "source": [
        "## Observe TensorFlow speedup on GPU relative to CPU\n",
        "\n",
        "This example constructs a typical convolutional neural network layer over a\n",
        "random image and manually places the resulting ops on either the CPU or the GPU\n",
        "to compare execution speed."
      ]
    },
    {
      "cell_type": "code",
      "execution_count": null,
      "metadata": {
        "id": "Nh-ngOehNQGD"
      },
      "outputs": [],
      "source": [
        "import timeit\n",
        "\n",
        "device_name = tf.test.gpu_device_name()\n",
        "if device_name != '/device:GPU:0':\n",
        "  print(\n",
        "      '\\n\\nThis error most likely means that this notebook is not '\n",
        "      'configured to use a GPU.  Change this in Notebook Settings via the '\n",
        "      'command palette (cmd/ctrl-shift-P) or the Edit menu.\\n\\n')\n",
        "  raise SystemError('GPU device not found')\n",
        "\n",
        "def cpu():\n",
        "  with tf.device('/cpu:0'):\n",
        "    random_image_cpu = tf.random.normal((100, 100, 100, 3))\n",
        "    net_cpu = tf.keras.layers.Conv2D(32, 7)(random_image_cpu)\n",
        "    return tf.math.reduce_sum(net_cpu)\n",
        "\n",
        "def gpu():\n",
        "  with tf.device('/device:GPU:0'):\n",
        "    random_image_gpu = tf.random.normal((100, 100, 100, 3))\n",
        "    net_gpu = tf.keras.layers.Conv2D(32, 7)(random_image_gpu)\n",
        "    return tf.math.reduce_sum(net_gpu)\n",
        "  \n",
        "# We run each op once to warm up; see: https://stackoverflow.com/a/45067900\n",
        "cpu()\n",
        "gpu()\n",
        "\n",
        "# Run the op several times.\n",
        "print('Time (s) to convolve 32x7x7x3 filter over random 100x100x100x3 images '\n",
        "      '(batch x height x width x channel). Sum of ten runs.')\n",
        "print('CPU (s):')\n",
        "cpu_time = timeit.timeit('cpu()', number=10, setup=\"from __main__ import cpu\")\n",
        "print(cpu_time)\n",
        "print('GPU (s):')\n",
        "gpu_time = timeit.timeit('gpu()', number=10, setup=\"from __main__ import gpu\")\n",
        "print(gpu_time)\n",
        "print('GPU speedup over CPU: {}x'.format(int(cpu_time/gpu_time)))"
      ]
    },
    {
      "cell_type": "code",
      "execution_count": null,
      "metadata": {
        "id": "jBwtfnFAMcEJ"
      },
      "outputs": [],
      "source": [
        "# !pip install pandas"
      ]
    },
    {
      "cell_type": "code",
      "execution_count": null,
      "metadata": {
        "id": "q3ogtDWfMcEK"
      },
      "outputs": [],
      "source": [
        "# !pip install seaborn"
      ]
    },
    {
      "cell_type": "code",
      "execution_count": null,
      "metadata": {
        "id": "rft62sPMCPJH"
      },
      "outputs": [],
      "source": [
        "import numpy as np\n",
        "import pandas as pd\n",
        "import pickle\n",
        "import h5py\n",
        "import cv2\n",
        "import os\n",
        "from os import listdir\n",
        "import tensorflow as tf\n",
        "from tensorflow import keras as k\n",
        "from sklearn.preprocessing import LabelBinarizer\n",
        "from keras.models import Sequential\n",
        "from tensorflow.keras.layers import BatchNormalization\n",
        "from keras.layers.convolutional import Conv2D\n",
        "# from keras.layers import LeakyRelu\n",
        "from keras.layers.convolutional import MaxPooling2D\n",
        "from keras.layers.core import Activation, Flatten, Dropout, Dense\n",
        "from keras import backend as K\n",
        "from keras.preprocessing.image import ImageDataGenerator\n",
        "from keras.optimizers import Adam\n",
        "from keras.callbacks import EarlyStopping\n",
        "from keras.preprocessing import image\n",
        "from keras_preprocessing.image import img_to_array\n",
        "from keras.utils.vis_utils import plot_model\n",
        "from sklearn.preprocessing import MultiLabelBinarizer\n",
        "from sklearn.model_selection import train_test_split\n",
        "import matplotlib.pyplot as plt\n",
        "from collections import Counter\n",
        "\n",
        "# Example of loading an image with the Keras API\n",
        "from keras_preprocessing.image import load_img\n",
        "import seaborn as sn\n",
        "from tensorflow.keras.models import load_model"
      ]
    },
    {
      "cell_type": "code",
      "execution_count": null,
      "metadata": {
        "colab": {
          "base_uri": "https://localhost:8080/"
        },
        "id": "mmItPgBxAaU8",
        "outputId": "047af0a2-8639-4fa1-fac9-e6b9c1b2d3ca"
      },
      "outputs": [
        {
          "output_type": "stream",
          "name": "stdout",
          "text": [
            "Mounted at /content/drive\n"
          ]
        }
      ],
      "source": [
        "from google.colab import drive\n",
        "drive.mount('/content/drive')"
      ]
    },
    {
      "cell_type": "code",
      "execution_count": null,
      "metadata": {
        "id": "Cef6r25vDhno"
      },
      "outputs": [],
      "source": [
        "default_image_size = tuple((256, 256))\n",
        "image_size = 0\n",
        "directory_root = \"../content/drive/MyDrive/PlantVillage\"\n",
        "# directory_root = \"Downloads\\DL\\PlantVillage\"\n",
        "width=256\n",
        "height=256\n",
        "depth=3"
      ]
    },
    {
      "cell_type": "code",
      "execution_count": null,
      "metadata": {
        "colab": {
          "base_uri": "https://localhost:8080/"
        },
        "id": "zFUP2GLFcW4-",
        "outputId": "50d2df87-49d7-4bb5-8d60-6a50f58bb47f"
      },
      "outputs": [
        {
          "output_type": "stream",
          "name": "stdout",
          "text": [
            "../content/drive/MyDrive/PlantVillage\n"
          ]
        }
      ],
      "source": [
        "# !pwd\n",
        "print(directory_root)"
      ]
    },
    {
      "cell_type": "code",
      "execution_count": null,
      "metadata": {
        "id": "DpSxx6WIE_l-"
      },
      "outputs": [],
      "source": [
        "def convert_image_to_array(image_dir):\n",
        "    try:\n",
        "        image = cv2.imread(image_dir)\n",
        "        if image is not None :\n",
        "            image = cv2.resize(image, default_image_size)   \n",
        "            return img_to_array(image)\n",
        "        else :\n",
        "            return np.array([])\n",
        "    except Exception as e:\n",
        "        print(f\"Error : {e}\")\n",
        "        return None"
      ]
    },
    {
      "cell_type": "code",
      "execution_count": null,
      "metadata": {
        "colab": {
          "base_uri": "https://localhost:8080/"
        },
        "id": "DHHWGKHPFHE0",
        "outputId": "742c11ba-19cb-48a9-967a-eaefb692a6b2"
      },
      "outputs": [
        {
          "output_type": "stream",
          "name": "stdout",
          "text": [
            "[INFO] Loading images ...\n",
            "[INFO] Processing Tomato_Late_blight ...\n",
            "[INFO] Processing Tomato_Leaf_Mold ...\n",
            "[INFO] Processing Tomato_healthy ...\n",
            "[INFO] Processing Tomato_Septoria_leaf_spot ...\n",
            "[INFO] Processing Tomato_Early_blight ...\n",
            "[INFO] Processing Tomato_Bacterial_spot ...\n",
            "[INFO] Processing Pepper_bell_Bacterial_spot ...\n",
            "[INFO] Processing Pepper_bell_healthy ...\n",
            "[INFO] Processing Potato_Early_blight ...\n",
            "[INFO] Processing Potato_healthy ...\n",
            "[INFO] Processing Potato_Late_blight ...\n",
            "[INFO] Processing Tomato_Target_Spot ...\n",
            "[INFO] Processing Tomato_Tomato_mosaic_virus ...\n",
            "[INFO] Processing Tomato_Tomato_YellowLeaf_Curl_Virus ...\n",
            "[INFO] Image loading completed\n"
          ]
        }
      ],
      "source": [
        "image_list, label_list = [], []\n",
        "try:\n",
        "    print(\"[INFO] Loading images ...\")\n",
        "    root_dir = listdir(directory_root)\n",
        "    for directory in root_dir :\n",
        "        # remove .DS_Store from list\n",
        "        if directory == \".DS_Store\" :\n",
        "            root_dir.remove(directory)\n",
        "\n",
        "    for plant_folder in root_dir :\n",
        "        plant_disease_folder_list = listdir(f\"{directory_root}/{plant_folder}\")\n",
        "        \n",
        "        for disease_folder in plant_disease_folder_list :\n",
        "            # remove .DS_Store from list\n",
        "            if disease_folder == \".DS_Store\" :\n",
        "                plant_disease_folder_list.remove(disease_folder)\n",
        "\n",
        "        for plant_disease_folder in plant_disease_folder_list:\n",
        "            print(f\"[INFO] Processing {plant_disease_folder} ...\")\n",
        "            plant_disease_image_list = listdir(f\"{directory_root}/{plant_folder}/{plant_disease_folder}\")\n",
        "                \n",
        "            for single_plant_disease_image in plant_disease_image_list :\n",
        "                if single_plant_disease_image == \".DS_Store\" :\n",
        "                    plant_disease_image_list.remove(single_plant_disease_image)\n",
        "\n",
        "            for image in plant_disease_image_list[:200]:\n",
        "                image_directory = f\"{directory_root}/{plant_folder}/{plant_disease_folder}/{image}\"\n",
        "                if image_directory.endswith(\".jpg\") == True or image_directory.endswith(\".JPG\") == True:\n",
        "                    image_list.append(convert_image_to_array(image_directory))\n",
        "                    label_list.append(plant_disease_folder)\n",
        "    print(\"[INFO] Image loading completed\")  \n",
        "except Exception as e:\n",
        "    print(f\"Error : {e}\")"
      ]
    },
    {
      "cell_type": "code",
      "execution_count": null,
      "metadata": {
        "id": "CIT6ZQM6HSs5"
      },
      "outputs": [],
      "source": [
        "label_binarizer = LabelBinarizer()\n",
        "image_labels = label_binarizer.fit_transform(label_list)\n",
        "pickle.dump(label_binarizer,open('label_transform.pkl', 'wb'))\n",
        "n_classes = len(label_binarizer.classes_)"
      ]
    },
    {
      "cell_type": "code",
      "execution_count": null,
      "metadata": {
        "id": "kLaFMiuCHSpW",
        "colab": {
          "base_uri": "https://localhost:8080/"
        },
        "outputId": "0f3b4fa4-75e2-4440-eccb-bd8e1d23faa3"
      },
      "outputs": [
        {
          "output_type": "stream",
          "name": "stdout",
          "text": [
            "['Pepper_bell_Bacterial_spot' 'Pepper_bell_healthy' 'Potato_Early_blight'\n",
            " 'Potato_Late_blight' 'Potato_healthy' 'Tomato_Bacterial_spot'\n",
            " 'Tomato_Early_blight' 'Tomato_Late_blight' 'Tomato_Leaf_Mold'\n",
            " 'Tomato_Septoria_leaf_spot' 'Tomato_Spider_mites_Two_spotted_spider_mite'\n",
            " 'Tomato_Target_Spot' 'Tomato_Tomato_YellowLeaf_Curl_Virus'\n",
            " 'Tomato_Tomato_mosaic_virus' 'Tomato_healthy']\n"
          ]
        }
      ],
      "source": [
        "print(label_binarizer.classes_)"
      ]
    },
    {
      "cell_type": "code",
      "execution_count": null,
      "metadata": {
        "id": "1PQMpCDsHSlO"
      },
      "outputs": [],
      "source": [
        "np_image_list = np.array(image_list, dtype=np.float16) / 225.0"
      ]
    },
    {
      "cell_type": "code",
      "execution_count": null,
      "metadata": {
        "id": "ov0sy-w8HShp",
        "colab": {
          "base_uri": "https://localhost:8080/"
        },
        "outputId": "538de1f8-fb43-44b2-a189-f5df4a8e36de"
      },
      "outputs": [
        {
          "output_type": "stream",
          "name": "stdout",
          "text": [
            "[INFO] Spliting data to train, test\n"
          ]
        }
      ],
      "source": [
        "print(\"[INFO] Spliting data to train, test\")\n",
        "x_train, x_test, y_train, y_test = train_test_split(np_image_list, image_labels, test_size=0.2, random_state = 42) "
      ]
    },
    {
      "cell_type": "code",
      "execution_count": null,
      "metadata": {
        "id": "UwhcW8jqHSb2"
      },
      "outputs": [],
      "source": [
        "aug = ImageDataGenerator(\n",
        "    rotation_range=25, width_shift_range=0.1,\n",
        "    height_shift_range=0.1, shear_range=0.2, \n",
        "    zoom_range=0.2,horizontal_flip=True, \n",
        "    fill_mode=\"nearest\")"
      ]
    },
    {
      "cell_type": "code",
      "source": [
        "x_test.shape[0]"
      ],
      "metadata": {
        "colab": {
          "base_uri": "https://localhost:8080/"
        },
        "id": "Qp03cPubb8Du",
        "outputId": "34297408-2735-4d72-9a8f-e1024841489a"
      },
      "execution_count": null,
      "outputs": [
        {
          "output_type": "execute_result",
          "data": {
            "text/plain": [
              "591"
            ]
          },
          "metadata": {},
          "execution_count": 14
        }
      ]
    },
    {
      "cell_type": "code",
      "source": [
        "y_test.shape[0]"
      ],
      "metadata": {
        "colab": {
          "base_uri": "https://localhost:8080/"
        },
        "id": "QjNbtXvKcXhv",
        "outputId": "eba1192b-2605-4169-8740-c8f26c5434a0"
      },
      "execution_count": null,
      "outputs": [
        {
          "output_type": "execute_result",
          "data": {
            "text/plain": [
              "591"
            ]
          },
          "metadata": {},
          "execution_count": 15
        }
      ]
    },
    {
      "cell_type": "code",
      "source": [
        "boom = np.argmax(y_test, axis = 1)"
      ],
      "metadata": {
        "id": "rwxSHy5ufWCn"
      },
      "execution_count": null,
      "outputs": []
    },
    {
      "cell_type": "code",
      "source": [
        "boom = list(boom)"
      ],
      "metadata": {
        "id": "H0GwJhWJgcQ4"
      },
      "execution_count": null,
      "outputs": []
    },
    {
      "cell_type": "code",
      "source": [
        "val_keys = Counter(boom).keys() # equals to list(set(words))\n",
        "val_boom = Counter(boom).values()"
      ],
      "metadata": {
        "id": "GGKjaPbchTLF"
      },
      "execution_count": null,
      "outputs": []
    },
    {
      "cell_type": "code",
      "source": [
        "val_keys = list(val_keys)"
      ],
      "metadata": {
        "id": "9J9H5rVAhfBW"
      },
      "execution_count": null,
      "outputs": []
    },
    {
      "cell_type": "code",
      "source": [
        "val_boom = list(val_boom)"
      ],
      "metadata": {
        "id": "1Bw3IuM8hjqN"
      },
      "execution_count": null,
      "outputs": []
    },
    {
      "cell_type": "code",
      "source": [
        "val_boom"
      ],
      "metadata": {
        "colab": {
          "base_uri": "https://localhost:8080/"
        },
        "id": "Cpui_pSkiEVN",
        "outputId": "32415a0d-34e4-4915-cbb3-01ddec890a2d"
      },
      "execution_count": null,
      "outputs": [
        {
          "output_type": "execute_result",
          "data": {
            "text/plain": [
              "[38, 36, 51, 39, 31, 54, 38, 45, 30, 46, 40, 47, 27, 32, 37]"
            ]
          },
          "metadata": {},
          "execution_count": 21
        }
      ]
    },
    {
      "cell_type": "code",
      "source": [
        "Z = [x for _,x in sorted(zip(val_keys,val_boom))]"
      ],
      "metadata": {
        "id": "fwGKEYvUh789"
      },
      "execution_count": null,
      "outputs": []
    },
    {
      "cell_type": "code",
      "source": [
        "Z"
      ],
      "metadata": {
        "colab": {
          "base_uri": "https://localhost:8080/"
        },
        "id": "IL_t1KUHiKK4",
        "outputId": "16d594b8-a126-4636-e2e9-f33a56472f34"
      },
      "execution_count": null,
      "outputs": [
        {
          "output_type": "execute_result",
          "data": {
            "text/plain": [
              "[46, 38, 31, 36, 27, 47, 37, 45, 54, 38, 40, 51, 32, 39, 30]"
            ]
          },
          "metadata": {},
          "execution_count": 23
        }
      ]
    },
    {
      "cell_type": "code",
      "source": [
        "classes = label_binarizer.classes_"
      ],
      "metadata": {
        "id": "c9yYCVBZTw12"
      },
      "execution_count": null,
      "outputs": []
    },
    {
      "cell_type": "code",
      "source": [
        "n_classes"
      ],
      "metadata": {
        "colab": {
          "base_uri": "https://localhost:8080/"
        },
        "id": "NVrZW8GeVdPN",
        "outputId": "b7105fae-4ca7-448e-a08d-d5a01eac1d54"
      },
      "execution_count": null,
      "outputs": [
        {
          "output_type": "execute_result",
          "data": {
            "text/plain": [
              "15"
            ]
          },
          "metadata": {},
          "execution_count": 25
        }
      ]
    },
    {
      "cell_type": "code",
      "source": [
        "fig, ax = plt.subplots()\n",
        "rects1 = ax.bar(classes, Z, color ='maroon', width = 0.5)\n",
        "ax.set_title('Test Data')\n",
        "# ax.set_xticks(val_boom)\n",
        "ax.set_xticklabels(classes)\n",
        "plt.xticks(rotation = 90) # Rotates X-Axis Ticks by 90-degrees\n",
        "ax.set_ylabel('Number of Images')\n",
        "\n",
        "plt.ylim(top=65) \n",
        "def autolabel(rects):\n",
        "    \"\"\"\n",
        "    Attach a text label above each bar displaying its height\n",
        "    \"\"\"\n",
        "    for rect in rects:\n",
        "        height = rect.get_height()\n",
        "        ax.text(rect.get_x() + rect.get_width()/2., 1.05*height,\n",
        "                '%d' % int(height),\n",
        "                ha='center', va='bottom')\n",
        "\n",
        "autolabel(rects1)\n",
        "plt.show()"
      ],
      "metadata": {
        "colab": {
          "base_uri": "https://localhost:8080/",
          "height": 507
        },
        "id": "QQxPIqIkTukn",
        "outputId": "9bb1e78b-1312-4828-ac1b-4d2ae390e7ae"
      },
      "execution_count": null,
      "outputs": [
        {
          "output_type": "display_data",
          "data": {
            "text/plain": [
              "<Figure size 432x288 with 1 Axes>"
            ],
            "image/png": "[encoded data removed]"
          },
          "metadata": {
            "needs_background": "light"
          }
        }
      ]
    },
    {
      "cell_type": "code",
      "execution_count": null,
      "metadata": {
        "id": "l72WJWhJHRSi"
      },
      "outputs": [],
      "source": [
        "# load model\n",
        "model = load_model('../content/drive/MyDrive/DL_Project_1_Leaf_Disease_Detection_Model_250_Epochs.h5')"
      ]
    },
    {
      "cell_type": "code",
      "execution_count": null,
      "metadata": {
        "id": "4Spt0kv8Kc-x",
        "colab": {
          "base_uri": "https://localhost:8080/"
        },
        "outputId": "7ee459c4-6dba-4519-8053-36bc4740478a"
      },
      "outputs": [
        {
          "output_type": "execute_result",
          "data": {
            "text/plain": [
              "True"
            ]
          },
          "metadata": {},
          "execution_count": 29
        }
      ],
      "source": [
        "os.path.exists(\"../content/drive/MyDrive/pepperbell.jpg\")"
      ]
    },
    {
      "cell_type": "code",
      "execution_count": null,
      "metadata": {
        "id": "k5A1WN-WIlPH"
      },
      "outputs": [],
      "source": [
        "# image for prediction\n",
        "image_dir= \"../content/drive/MyDrive/pepperbel.jpg\"#\"a.jpg\"\n",
        "im1 = load_img(image_dir)\n",
        "\n",
        "im=convert_image_to_array(image_dir)\n",
        "np_image_li = np.array(im, dtype=np.float16) / 225.0\n",
        "npp_image = np.expand_dims(np_image_li, axis=0)"
      ]
    },
    {
      "cell_type": "code",
      "source": [
        "# prediction result for single image\n",
        "result=model.predict(npp_image)\n",
        "print(result)"
      ],
      "metadata": {
        "colab": {
          "base_uri": "https://localhost:8080/"
        },
        "id": "NmQBfibPeaQ3",
        "outputId": "e1c3eeac-16b9-4cc8-f978-5bd2c74349a0"
      },
      "execution_count": null,
      "outputs": [
        {
          "output_type": "stream",
          "name": "stdout",
          "text": [
            "1/1 [==============================] - 1s 862ms/step\n",
            "[[1.0000000e+00 1.6565324e-11 4.6477740e-15 3.4836779e-23 5.6671945e-25\n",
            "  3.4370536e-24 3.0381930e-12 5.1855013e-11 1.9012285e-18 5.1814617e-17\n",
            "  2.6603498e-24 2.0924023e-28 1.1950573e-11 2.7961031e-19 1.0535327e-26]]\n"
          ]
        }
      ]
    },
    {
      "cell_type": "code",
      "execution_count": null,
      "metadata": {
        "id": "8iTMnYQKImAH",
        "colab": {
          "base_uri": "https://localhost:8080/"
        },
        "outputId": "e621759e-7998-4f5f-fe58-051d026eb392"
      },
      "outputs": [
        {
          "output_type": "stream",
          "name": "stdout",
          "text": [
            "probability:1.0\n",
            "Pepper_bell_Bacterial_spot\n"
          ]
        }
      ],
      "source": [
        "# predicted name of the disease\n",
        "itemindex = np.where(result==np.max(result))\n",
        "print(\"probability:\"+str(np.max(result))+\"\\n\"+label_binarizer.classes_[itemindex[1][0]])"
      ]
    },
    {
      "cell_type": "code",
      "execution_count": null,
      "metadata": {
        "id": "APn_xOStImNG",
        "colab": {
          "base_uri": "https://localhost:8080/"
        },
        "outputId": "8ea4fd02-2d80-4e4e-ae92-a215fc577afc"
      },
      "outputs": [
        {
          "output_type": "stream",
          "name": "stdout",
          "text": [
            "19/19 [==============================] - 484s 25s/step\n",
            "[[4.36013991e-13 9.99928892e-01 7.66898633e-09 ... 1.72192996e-10\n",
            "  1.80207792e-07 1.59666669e-07]\n",
            " [2.22128580e-14 9.35390681e-14 4.65236932e-10 ... 4.51276516e-11\n",
            "  1.12193546e-10 4.12275353e-10]\n",
            " [6.06035555e-10 2.99542285e-06 5.55042590e-09 ... 1.82516613e-09\n",
            "  2.00567342e-07 7.24336147e-01]\n",
            " ...\n",
            " [1.53319359e-15 9.86393338e-19 1.62618457e-15 ... 1.00000000e+00\n",
            "  1.07791902e-13 2.14708267e-16]\n",
            " [2.07235894e-06 4.28697291e-08 7.42312115e-12 ... 1.51947575e-07\n",
            "  1.99507494e-10 1.15691701e-12]\n",
            " [5.54820387e-15 1.90183977e-16 7.23654414e-10 ... 5.65614883e-13\n",
            "  1.56761438e-14 1.96094917e-13]]\n"
          ]
        }
      ],
      "source": [
        "x_test_result=model.predict(x_test)\n",
        "print(x_test_result)"
      ]
    },
    {
      "cell_type": "code",
      "source": [
        "x_test_result.shape"
      ],
      "metadata": {
        "colab": {
          "base_uri": "https://localhost:8080/"
        },
        "id": "ekAQ2YXwUJUD",
        "outputId": "3902fc57-fd52-4726-d727-e8e81320ce84"
      },
      "execution_count": null,
      "outputs": [
        {
          "output_type": "execute_result",
          "data": {
            "text/plain": [
              "(591, 15)"
            ]
          },
          "metadata": {},
          "execution_count": 38
        }
      ]
    },
    {
      "cell_type": "code",
      "execution_count": null,
      "metadata": {
        "colab": {
          "base_uri": "https://localhost:8080/"
        },
        "id": "VNwJi2mOMcEH",
        "outputId": "0d01e46d-5511-491b-972c-058c10dab377"
      },
      "outputs": [
        {
          "output_type": "execute_result",
          "data": {
            "text/plain": [
              "(591, 15)"
            ]
          },
          "metadata": {},
          "execution_count": 39
        }
      ],
      "source": [
        "y_test.shape"
      ]
    },
    {
      "cell_type": "code",
      "source": [
        "labels = tf.argmax(y_test,1)"
      ],
      "metadata": {
        "id": "BRlm-UUGTXEy"
      },
      "execution_count": null,
      "outputs": []
    },
    {
      "cell_type": "code",
      "source": [
        "labels.shape"
      ],
      "metadata": {
        "colab": {
          "base_uri": "https://localhost:8080/"
        },
        "id": "rzbvUt1WTitT",
        "outputId": "5b00a2b4-9157-48d8-a148-5d0e239371e3"
      },
      "execution_count": null,
      "outputs": [
        {
          "output_type": "execute_result",
          "data": {
            "text/plain": [
              "TensorShape([591])"
            ]
          },
          "metadata": {},
          "execution_count": 45
        }
      ]
    },
    {
      "cell_type": "code",
      "source": [
        "predictions = tf.argmax(result,1)"
      ],
      "metadata": {
        "id": "IP2TZaHqTlT8"
      },
      "execution_count": null,
      "outputs": []
    },
    {
      "cell_type": "code",
      "source": [
        "predictions.shape"
      ],
      "metadata": {
        "colab": {
          "base_uri": "https://localhost:8080/"
        },
        "id": "cimoGiwiTrZM",
        "outputId": "e21b43b9-a8fa-4c86-9939-454b120f5f61"
      },
      "execution_count": null,
      "outputs": [
        {
          "output_type": "execute_result",
          "data": {
            "text/plain": [
              "TensorShape([1])"
            ]
          },
          "metadata": {},
          "execution_count": 47
        }
      ]
    },
    {
      "cell_type": "code",
      "execution_count": null,
      "metadata": {
        "id": "fcXfKBthMcEI"
      },
      "outputs": [],
      "source": [
        "cm = tf.math.confusion_matrix(labels = tf.argmax(y_test,1), predictions = tf.argmax(x_test_result,1))"
      ]
    },
    {
      "cell_type": "code",
      "execution_count": null,
      "metadata": {
        "id": "zH08-V84McEI"
      },
      "outputs": [],
      "source": [
        "cm = cm.numpy()"
      ]
    },
    {
      "cell_type": "code",
      "source": [
        "cm"
      ],
      "metadata": {
        "colab": {
          "base_uri": "https://localhost:8080/"
        },
        "id": "KW4j-qg1WarU",
        "outputId": "59e325ab-64b0-4cc8-94a8-fe985d80fdd4"
      },
      "execution_count": null,
      "outputs": [
        {
          "output_type": "execute_result",
          "data": {
            "text/plain": [
              "array([[44,  0,  0,  0,  0,  0,  1,  0,  0,  1,  0,  0,  0,  0,  0],\n",
              "       [ 0, 37,  0,  0,  0,  0,  0,  1,  0,  0,  0,  0,  0,  0,  0],\n",
              "       [ 0,  0, 31,  0,  0,  0,  0,  0,  0,  0,  0,  0,  0,  0,  0],\n",
              "       [ 1,  0,  2, 28,  0,  0,  0,  3,  0,  0,  1,  0,  0,  0,  1],\n",
              "       [ 0,  0,  0,  0, 27,  0,  0,  0,  0,  0,  0,  0,  0,  0,  0],\n",
              "       [ 0,  0,  0,  0,  0, 44,  0,  0,  1,  0,  0,  0,  2,  0,  0],\n",
              "       [ 1,  1,  0,  0,  0,  0, 31,  3,  0,  0,  1,  0,  0,  0,  0],\n",
              "       [ 0,  0,  1,  0,  0,  2,  4, 33,  0,  0,  1,  0,  0,  0,  4],\n",
              "       [ 0,  0,  0,  0,  0,  0,  0,  1, 52,  0,  0,  0,  1,  0,  0],\n",
              "       [ 1,  1,  0,  0,  0,  0,  1,  1,  9, 23,  1,  0,  1,  0,  0],\n",
              "       [ 0,  0,  0,  0,  0,  0,  0,  0,  4,  0, 36,  0,  0,  0,  0],\n",
              "       [ 0,  1,  0,  0,  1,  0,  3,  0,  4,  0, 16, 17,  0,  1,  8],\n",
              "       [ 0,  0,  0,  0,  0,  0,  0,  0,  0,  0,  0,  0, 32,  0,  0],\n",
              "       [ 0,  0,  0,  0,  0,  0,  0,  0,  0,  0,  0,  0,  0, 39,  0],\n",
              "       [ 0,  0,  0,  0,  0,  0,  0,  0,  0,  0,  0,  0,  0,  0, 30]],\n",
              "      dtype=int32)"
            ]
          },
          "metadata": {},
          "execution_count": 50
        }
      ]
    },
    {
      "cell_type": "code",
      "execution_count": null,
      "metadata": {
        "colab": {
          "base_uri": "https://localhost:8080/"
        },
        "id": "WM0PH15yMcEJ",
        "outputId": "d6c4b055-76a4-4d28-f673-11b6214283c2"
      },
      "outputs": [
        {
          "output_type": "execute_result",
          "data": {
            "text/plain": [
              "array(['Pepper_bell_Bacterial_spot', 'Pepper_bell_healthy',\n",
              "       'Potato_Early_blight', 'Potato_Late_blight', 'Potato_healthy',\n",
              "       'Tomato_Bacterial_spot', 'Tomato_Early_blight',\n",
              "       'Tomato_Late_blight', 'Tomato_Leaf_Mold',\n",
              "       'Tomato_Septoria_leaf_spot',\n",
              "       'Tomato_Spider_mites_Two_spotted_spider_mite',\n",
              "       'Tomato_Target_Spot', 'Tomato_Tomato_YellowLeaf_Curl_Virus',\n",
              "       'Tomato_Tomato_mosaic_virus', 'Tomato_healthy'], dtype='<U43')"
            ]
          },
          "metadata": {},
          "execution_count": 51
        }
      ],
      "source": [
        "classes"
      ]
    },
    {
      "cell_type": "code",
      "execution_count": null,
      "metadata": {
        "id": "XXgYpzz5McEJ"
      },
      "outputs": [],
      "source": [
        "df_cm = pd.DataFrame(cm, classes, classes)"
      ]
    },
    {
      "cell_type": "code",
      "execution_count": null,
      "metadata": {
        "colab": {
          "base_uri": "https://localhost:8080/",
          "height": 584
        },
        "id": "4-sOmgabMcEK",
        "outputId": "f629bd98-6e81-4c29-ae1b-9e283dcc31e8"
      },
      "outputs": [
        {
          "output_type": "execute_result",
          "data": {
            "text/plain": [
              "                                             Pepper_bell_Bacterial_spot  \\\n",
              "Pepper_bell_Bacterial_spot                                           44   \n",
              "Pepper_bell_healthy                                                   0   \n",
              "Potato_Early_blight                                                   0   \n",
              "Potato_Late_blight                                                    1   \n",
              "Potato_healthy                                                        0   \n",
              "Tomato_Bacterial_spot                                                 0   \n",
              "Tomato_Early_blight                                                   1   \n",
              "Tomato_Late_blight                                                    0   \n",
              "Tomato_Leaf_Mold                                                      0   \n",
              "Tomato_Septoria_leaf_spot                                             1   \n",
              "Tomato_Spider_mites_Two_spotted_spider_mite                           0   \n",
              "Tomato_Target_Spot                                                    0   \n",
              "Tomato_Tomato_YellowLeaf_Curl_Virus                                   0   \n",
              "Tomato_Tomato_mosaic_virus                                            0   \n",
              "Tomato_healthy                                                        0   \n",
              "\n",
              "                                             Pepper_bell_healthy  \\\n",
              "Pepper_bell_Bacterial_spot                                     0   \n",
              "Pepper_bell_healthy                                           37   \n",
              "Potato_Early_blight                                            0   \n",
              "Potato_Late_blight                                             0   \n",
              "Potato_healthy                                                 0   \n",
              "Tomato_Bacterial_spot                                          0   \n",
              "Tomato_Early_blight                                            1   \n",
              "Tomato_Late_blight                                             0   \n",
              "Tomato_Leaf_Mold                                               0   \n",
              "Tomato_Septoria_leaf_spot                                      1   \n",
              "Tomato_Spider_mites_Two_spotted_spider_mite                    0   \n",
              "Tomato_Target_Spot                                             1   \n",
              "Tomato_Tomato_YellowLeaf_Curl_Virus                            0   \n",
              "Tomato_Tomato_mosaic_virus                                     0   \n",
              "Tomato_healthy                                                 0   \n",
              "\n",
              "                                             Potato_Early_blight  \\\n",
              "Pepper_bell_Bacterial_spot                                     0   \n",
              "Pepper_bell_healthy                                            0   \n",
              "Potato_Early_blight                                           31   \n",
              "Potato_Late_blight                                             2   \n",
              "Potato_healthy                                                 0   \n",
              "Tomato_Bacterial_spot                                          0   \n",
              "Tomato_Early_blight                                            0   \n",
              "Tomato_Late_blight                                             1   \n",
              "Tomato_Leaf_Mold                                               0   \n",
              "Tomato_Septoria_leaf_spot                                      0   \n",
              "Tomato_Spider_mites_Two_spotted_spider_mite                    0   \n",
              "Tomato_Target_Spot                                             0   \n",
              "Tomato_Tomato_YellowLeaf_Curl_Virus                            0   \n",
              "Tomato_Tomato_mosaic_virus                                     0   \n",
              "Tomato_healthy                                                 0   \n",
              "\n",
              "                                             Potato_Late_blight  \\\n",
              "Pepper_bell_Bacterial_spot                                    0   \n",
              "Pepper_bell_healthy                                           0   \n",
              "Potato_Early_blight                                           0   \n",
              "Potato_Late_blight                                           28   \n",
              "Potato_healthy                                                0   \n",
              "Tomato_Bacterial_spot                                         0   \n",
              "Tomato_Early_blight                                           0   \n",
              "Tomato_Late_blight                                            0   \n",
              "Tomato_Leaf_Mold                                              0   \n",
              "Tomato_Septoria_leaf_spot                                     0   \n",
              "Tomato_Spider_mites_Two_spotted_spider_mite                   0   \n",
              "Tomato_Target_Spot                                            0   \n",
              "Tomato_Tomato_YellowLeaf_Curl_Virus                           0   \n",
              "Tomato_Tomato_mosaic_virus                                    0   \n",
              "Tomato_healthy                                                0   \n",
              "\n",
              "                                             Potato_healthy  \\\n",
              "Pepper_bell_Bacterial_spot                                0   \n",
              "Pepper_bell_healthy                                       0   \n",
              "Potato_Early_blight                                       0   \n",
              "Potato_Late_blight                                        0   \n",
              "Potato_healthy                                           27   \n",
              "Tomato_Bacterial_spot                                     0   \n",
              "Tomato_Early_blight                                       0   \n",
              "Tomato_Late_blight                                        0   \n",
              "Tomato_Leaf_Mold                                          0   \n",
              "Tomato_Septoria_leaf_spot                                 0   \n",
              "Tomato_Spider_mites_Two_spotted_spider_mite               0   \n",
              "Tomato_Target_Spot                                        1   \n",
              "Tomato_Tomato_YellowLeaf_Curl_Virus                       0   \n",
              "Tomato_Tomato_mosaic_virus                                0   \n",
              "Tomato_healthy                                            0   \n",
              "\n",
              "                                             Tomato_Bacterial_spot  \\\n",
              "Pepper_bell_Bacterial_spot                                       0   \n",
              "Pepper_bell_healthy                                              0   \n",
              "Potato_Early_blight                                              0   \n",
              "Potato_Late_blight                                               0   \n",
              "Potato_healthy                                                   0   \n",
              "Tomato_Bacterial_spot                                           44   \n",
              "Tomato_Early_blight                                              0   \n",
              "Tomato_Late_blight                                               2   \n",
              "Tomato_Leaf_Mold                                                 0   \n",
              "Tomato_Septoria_leaf_spot                                        0   \n",
              "Tomato_Spider_mites_Two_spotted_spider_mite                      0   \n",
              "Tomato_Target_Spot                                               0   \n",
              "Tomato_Tomato_YellowLeaf_Curl_Virus                              0   \n",
              "Tomato_Tomato_mosaic_virus                                       0   \n",
              "Tomato_healthy                                                   0   \n",
              "\n",
              "                                             Tomato_Early_blight  \\\n",
              "Pepper_bell_Bacterial_spot                                     1   \n",
              "Pepper_bell_healthy                                            0   \n",
              "Potato_Early_blight                                            0   \n",
              "Potato_Late_blight                                             0   \n",
              "Potato_healthy                                                 0   \n",
              "Tomato_Bacterial_spot                                          0   \n",
              "Tomato_Early_blight                                           31   \n",
              "Tomato_Late_blight                                             4   \n",
              "Tomato_Leaf_Mold                                               0   \n",
              "Tomato_Septoria_leaf_spot                                      1   \n",
              "Tomato_Spider_mites_Two_spotted_spider_mite                    0   \n",
              "Tomato_Target_Spot                                             3   \n",
              "Tomato_Tomato_YellowLeaf_Curl_Virus                            0   \n",
              "Tomato_Tomato_mosaic_virus                                     0   \n",
              "Tomato_healthy                                                 0   \n",
              "\n",
              "                                             Tomato_Late_blight  \\\n",
              "Pepper_bell_Bacterial_spot                                    0   \n",
              "Pepper_bell_healthy                                           1   \n",
              "Potato_Early_blight                                           0   \n",
              "Potato_Late_blight                                            3   \n",
              "Potato_healthy                                                0   \n",
              "Tomato_Bacterial_spot                                         0   \n",
              "Tomato_Early_blight                                           3   \n",
              "Tomato_Late_blight                                           33   \n",
              "Tomato_Leaf_Mold                                              1   \n",
              "Tomato_Septoria_leaf_spot                                     1   \n",
              "Tomato_Spider_mites_Two_spotted_spider_mite                   0   \n",
              "Tomato_Target_Spot                                            0   \n",
              "Tomato_Tomato_YellowLeaf_Curl_Virus                           0   \n",
              "Tomato_Tomato_mosaic_virus                                    0   \n",
              "Tomato_healthy                                                0   \n",
              "\n",
              "                                             Tomato_Leaf_Mold  \\\n",
              "Pepper_bell_Bacterial_spot                                  0   \n",
              "Pepper_bell_healthy                                         0   \n",
              "Potato_Early_blight                                         0   \n",
              "Potato_Late_blight                                          0   \n",
              "Potato_healthy                                              0   \n",
              "Tomato_Bacterial_spot                                       1   \n",
              "Tomato_Early_blight                                         0   \n",
              "Tomato_Late_blight                                          0   \n",
              "Tomato_Leaf_Mold                                           52   \n",
              "Tomato_Septoria_leaf_spot                                   9   \n",
              "Tomato_Spider_mites_Two_spotted_spider_mite                 4   \n",
              "Tomato_Target_Spot                                          4   \n",
              "Tomato_Tomato_YellowLeaf_Curl_Virus                         0   \n",
              "Tomato_Tomato_mosaic_virus                                  0   \n",
              "Tomato_healthy                                              0   \n",
              "\n",
              "                                             Tomato_Septoria_leaf_spot  \\\n",
              "Pepper_bell_Bacterial_spot                                           1   \n",
              "Pepper_bell_healthy                                                  0   \n",
              "Potato_Early_blight                                                  0   \n",
              "Potato_Late_blight                                                   0   \n",
              "Potato_healthy                                                       0   \n",
              "Tomato_Bacterial_spot                                                0   \n",
              "Tomato_Early_blight                                                  0   \n",
              "Tomato_Late_blight                                                   0   \n",
              "Tomato_Leaf_Mold                                                     0   \n",
              "Tomato_Septoria_leaf_spot                                           23   \n",
              "Tomato_Spider_mites_Two_spotted_spider_mite                          0   \n",
              "Tomato_Target_Spot                                                   0   \n",
              "Tomato_Tomato_YellowLeaf_Curl_Virus                                  0   \n",
              "Tomato_Tomato_mosaic_virus                                           0   \n",
              "Tomato_healthy                                                       0   \n",
              "\n",
              "                                             Tomato_Spider_mites_Two_spotted_spider_mite  \\\n",
              "Pepper_bell_Bacterial_spot                                                             0   \n",
              "Pepper_bell_healthy                                                                    0   \n",
              "Potato_Early_blight                                                                    0   \n",
              "Potato_Late_blight                                                                     1   \n",
              "Potato_healthy                                                                         0   \n",
              "Tomato_Bacterial_spot                                                                  0   \n",
              "Tomato_Early_blight                                                                    1   \n",
              "Tomato_Late_blight                                                                     1   \n",
              "Tomato_Leaf_Mold                                                                       0   \n",
              "Tomato_Septoria_leaf_spot                                                              1   \n",
              "Tomato_Spider_mites_Two_spotted_spider_mite                                           36   \n",
              "Tomato_Target_Spot                                                                    16   \n",
              "Tomato_Tomato_YellowLeaf_Curl_Virus                                                    0   \n",
              "Tomato_Tomato_mosaic_virus                                                             0   \n",
              "Tomato_healthy                                                                         0   \n",
              "\n",
              "                                             Tomato_Target_Spot  \\\n",
              "Pepper_bell_Bacterial_spot                                    0   \n",
              "Pepper_bell_healthy                                           0   \n",
              "Potato_Early_blight                                           0   \n",
              "Potato_Late_blight                                            0   \n",
              "Potato_healthy                                                0   \n",
              "Tomato_Bacterial_spot                                         0   \n",
              "Tomato_Early_blight                                           0   \n",
              "Tomato_Late_blight                                            0   \n",
              "Tomato_Leaf_Mold                                              0   \n",
              "Tomato_Septoria_leaf_spot                                     0   \n",
              "Tomato_Spider_mites_Two_spotted_spider_mite                   0   \n",
              "Tomato_Target_Spot                                           17   \n",
              "Tomato_Tomato_YellowLeaf_Curl_Virus                           0   \n",
              "Tomato_Tomato_mosaic_virus                                    0   \n",
              "Tomato_healthy                                                0   \n",
              "\n",
              "                                             Tomato_Tomato_YellowLeaf_Curl_Virus  \\\n",
              "Pepper_bell_Bacterial_spot                                                     0   \n",
              "Pepper_bell_healthy                                                            0   \n",
              "Potato_Early_blight                                                            0   \n",
              "Potato_Late_blight                                                             0   \n",
              "Potato_healthy                                                                 0   \n",
              "Tomato_Bacterial_spot                                                          2   \n",
              "Tomato_Early_blight                                                            0   \n",
              "Tomato_Late_blight                                                             0   \n",
              "Tomato_Leaf_Mold                                                               1   \n",
              "Tomato_Septoria_leaf_spot                                                      1   \n",
              "Tomato_Spider_mites_Two_spotted_spider_mite                                    0   \n",
              "Tomato_Target_Spot                                                             0   \n",
              "Tomato_Tomato_YellowLeaf_Curl_Virus                                           32   \n",
              "Tomato_Tomato_mosaic_virus                                                     0   \n",
              "Tomato_healthy                                                                 0   \n",
              "\n",
              "                                             Tomato_Tomato_mosaic_virus  \\\n",
              "Pepper_bell_Bacterial_spot                                            0   \n",
              "Pepper_bell_healthy                                                   0   \n",
              "Potato_Early_blight                                                   0   \n",
              "Potato_Late_blight                                                    0   \n",
              "Potato_healthy                                                        0   \n",
              "Tomato_Bacterial_spot                                                 0   \n",
              "Tomato_Early_blight                                                   0   \n",
              "Tomato_Late_blight                                                    0   \n",
              "Tomato_Leaf_Mold                                                      0   \n",
              "Tomato_Septoria_leaf_spot                                             0   \n",
              "Tomato_Spider_mites_Two_spotted_spider_mite                           0   \n",
              "Tomato_Target_Spot                                                    1   \n",
              "Tomato_Tomato_YellowLeaf_Curl_Virus                                   0   \n",
              "Tomato_Tomato_mosaic_virus                                           39   \n",
              "Tomato_healthy                                                        0   \n",
              "\n",
              "                                             Tomato_healthy  \n",
              "Pepper_bell_Bacterial_spot                                0  \n",
              "Pepper_bell_healthy                                       0  \n",
              "Potato_Early_blight                                       0  \n",
              "Potato_Late_blight                                        1  \n",
              "Potato_healthy                                            0  \n",
              "Tomato_Bacterial_spot                                     0  \n",
              "Tomato_Early_blight                                       0  \n",
              "Tomato_Late_blight                                        4  \n",
              "Tomato_Leaf_Mold                                          0  \n",
              "Tomato_Septoria_leaf_spot                                 0  \n",
              "Tomato_Spider_mites_Two_spotted_spider_mite               0  \n",
              "Tomato_Target_Spot                                        8  \n",
              "Tomato_Tomato_YellowLeaf_Curl_Virus                       0  \n",
              "Tomato_Tomato_mosaic_virus                                0  \n",
              "Tomato_healthy                                           30  "
            ],
            "text/html": [
              "\n",
              "  <div id=\"df-a4de9397-b8a8-4352-95dd-1bf0abdab257\">\n",
              "    <div class=\"colab-df-container\">\n",
              "      <div>\n",
              "<style scoped>\n",
              "    .dataframe tbody tr th:only-of-type {\n",
              "        vertical-align: middle;\n",
              "    }\n",
              "\n",
              "    .dataframe tbody tr th {\n",
              "        vertical-align: top;\n",
              "    }\n",
              "\n",
              "    .dataframe thead th {\n",
              "        text-align: right;\n",
              "    }\n",
              "</style>\n",
              "<table border=\"1\" class=\"dataframe\">\n",
              "  <thead>\n",
              "    <tr style=\"text-align: right;\">\n",
              "      <th></th>\n",
              "      <th>Pepper_bell_Bacterial_spot</th>\n",
              "      <th>Pepper_bell_healthy</th>\n",
              "      <th>Potato_Early_blight</th>\n",
              "      <th>Potato_Late_blight</th>\n",
              "      <th>Potato_healthy</th>\n",
              "      <th>Tomato_Bacterial_spot</th>\n",
              "      <th>Tomato_Early_blight</th>\n",
              "      <th>Tomato_Late_blight</th>\n",
              "      <th>Tomato_Leaf_Mold</th>\n",
              "      <th>Tomato_Septoria_leaf_spot</th>\n",
              "      <th>Tomato_Spider_mites_Two_spotted_spider_mite</th>\n",
              "      <th>Tomato_Target_Spot</th>\n",
              "      <th>Tomato_Tomato_YellowLeaf_Curl_Virus</th>\n",
              "      <th>Tomato_Tomato_mosaic_virus</th>\n",
              "      <th>Tomato_healthy</th>\n",
              "    </tr>\n",
              "  </thead>\n",
              "  <tbody>\n",
              "    <tr>\n",
              "      <th>Pepper_bell_Bacterial_spot</th>\n",
              "      <td>44</td>\n",
              "      <td>0</td>\n",
              "      <td>0</td>\n",
              "      <td>0</td>\n",
              "      <td>0</td>\n",
              "      <td>0</td>\n",
              "      <td>1</td>\n",
              "      <td>0</td>\n",
              "      <td>0</td>\n",
              "      <td>1</td>\n",
              "      <td>0</td>\n",
              "      <td>0</td>\n",
              "      <td>0</td>\n",
              "      <td>0</td>\n",
              "      <td>0</td>\n",
              "    </tr>\n",
              "    <tr>\n",
              "      <th>Pepper_bell_healthy</th>\n",
              "      <td>0</td>\n",
              "      <td>37</td>\n",
              "      <td>0</td>\n",
              "      <td>0</td>\n",
              "      <td>0</td>\n",
              "      <td>0</td>\n",
              "      <td>0</td>\n",
              "      <td>1</td>\n",
              "      <td>0</td>\n",
              "      <td>0</td>\n",
              "      <td>0</td>\n",
              "      <td>0</td>\n",
              "      <td>0</td>\n",
              "      <td>0</td>\n",
              "      <td>0</td>\n",
              "    </tr>\n",
              "    <tr>\n",
              "      <th>Potato_Early_blight</th>\n",
              "      <td>0</td>\n",
              "      <td>0</td>\n",
              "      <td>31</td>\n",
              "      <td>0</td>\n",
              "      <td>0</td>\n",
              "      <td>0</td>\n",
              "      <td>0</td>\n",
              "      <td>0</td>\n",
              "      <td>0</td>\n",
              "      <td>0</td>\n",
              "      <td>0</td>\n",
              "      <td>0</td>\n",
              "      <td>0</td>\n",
              "      <td>0</td>\n",
              "      <td>0</td>\n",
              "    </tr>\n",
              "    <tr>\n",
              "      <th>Potato_Late_blight</th>\n",
              "      <td>1</td>\n",
              "      <td>0</td>\n",
              "      <td>2</td>\n",
              "      <td>28</td>\n",
              "      <td>0</td>\n",
              "      <td>0</td>\n",
              "      <td>0</td>\n",
              "      <td>3</td>\n",
              "      <td>0</td>\n",
              "      <td>0</td>\n",
              "      <td>1</td>\n",
              "      <td>0</td>\n",
              "      <td>0</td>\n",
              "      <td>0</td>\n",
              "      <td>1</td>\n",
              "    </tr>\n",
              "    <tr>\n",
              "      <th>Potato_healthy</th>\n",
              "      <td>0</td>\n",
              "      <td>0</td>\n",
              "      <td>0</td>\n",
              "      <td>0</td>\n",
              "      <td>27</td>\n",
              "      <td>0</td>\n",
              "      <td>0</td>\n",
              "      <td>0</td>\n",
              "      <td>0</td>\n",
              "      <td>0</td>\n",
              "      <td>0</td>\n",
              "      <td>0</td>\n",
              "      <td>0</td>\n",
              "      <td>0</td>\n",
              "      <td>0</td>\n",
              "    </tr>\n",
              "    <tr>\n",
              "      <th>Tomato_Bacterial_spot</th>\n",
              "      <td>0</td>\n",
              "      <td>0</td>\n",
              "      <td>0</td>\n",
              "      <td>0</td>\n",
              "      <td>0</td>\n",
              "      <td>44</td>\n",
              "      <td>0</td>\n",
              "      <td>0</td>\n",
              "      <td>1</td>\n",
              "      <td>0</td>\n",
              "      <td>0</td>\n",
              "      <td>0</td>\n",
              "      <td>2</td>\n",
              "      <td>0</td>\n",
              "      <td>0</td>\n",
              "    </tr>\n",
              "    <tr>\n",
              "      <th>Tomato_Early_blight</th>\n",
              "      <td>1</td>\n",
              "      <td>1</td>\n",
              "      <td>0</td>\n",
              "      <td>0</td>\n",
              "      <td>0</td>\n",
              "      <td>0</td>\n",
              "      <td>31</td>\n",
              "      <td>3</td>\n",
              "      <td>0</td>\n",
              "      <td>0</td>\n",
              "      <td>1</td>\n",
              "      <td>0</td>\n",
              "      <td>0</td>\n",
              "      <td>0</td>\n",
              "      <td>0</td>\n",
              "    </tr>\n",
              "    <tr>\n",
              "      <th>Tomato_Late_blight</th>\n",
              "      <td>0</td>\n",
              "      <td>0</td>\n",
              "      <td>1</td>\n",
              "      <td>0</td>\n",
              "      <td>0</td>\n",
              "      <td>2</td>\n",
              "      <td>4</td>\n",
              "      <td>33</td>\n",
              "      <td>0</td>\n",
              "      <td>0</td>\n",
              "      <td>1</td>\n",
              "      <td>0</td>\n",
              "      <td>0</td>\n",
              "      <td>0</td>\n",
              "      <td>4</td>\n",
              "    </tr>\n",
              "    <tr>\n",
              "      <th>Tomato_Leaf_Mold</th>\n",
              "      <td>0</td>\n",
              "      <td>0</td>\n",
              "      <td>0</td>\n",
              "      <td>0</td>\n",
              "      <td>0</td>\n",
              "      <td>0</td>\n",
              "      <td>0</td>\n",
              "      <td>1</td>\n",
              "      <td>52</td>\n",
              "      <td>0</td>\n",
              "      <td>0</td>\n",
              "      <td>0</td>\n",
              "      <td>1</td>\n",
              "      <td>0</td>\n",
              "      <td>0</td>\n",
              "    </tr>\n",
              "    <tr>\n",
              "      <th>Tomato_Septoria_leaf_spot</th>\n",
              "      <td>1</td>\n",
              "      <td>1</td>\n",
              "      <td>0</td>\n",
              "      <td>0</td>\n",
              "      <td>0</td>\n",
              "      <td>0</td>\n",
              "      <td>1</td>\n",
              "      <td>1</td>\n",
              "      <td>9</td>\n",
              "      <td>23</td>\n",
              "      <td>1</td>\n",
              "      <td>0</td>\n",
              "      <td>1</td>\n",
              "      <td>0</td>\n",
              "      <td>0</td>\n",
              "    </tr>\n",
              "    <tr>\n",
              "      <th>Tomato_Spider_mites_Two_spotted_spider_mite</th>\n",
              "      <td>0</td>\n",
              "      <td>0</td>\n",
              "      <td>0</td>\n",
              "      <td>0</td>\n",
              "      <td>0</td>\n",
              "      <td>0</td>\n",
              "      <td>0</td>\n",
              "      <td>0</td>\n",
              "      <td>4</td>\n",
              "      <td>0</td>\n",
              "      <td>36</td>\n",
              "      <td>0</td>\n",
              "      <td>0</td>\n",
              "      <td>0</td>\n",
              "      <td>0</td>\n",
              "    </tr>\n",
              "    <tr>\n",
              "      <th>Tomato_Target_Spot</th>\n",
              "      <td>0</td>\n",
              "      <td>1</td>\n",
              "      <td>0</td>\n",
              "      <td>0</td>\n",
              "      <td>1</td>\n",
              "      <td>0</td>\n",
              "      <td>3</td>\n",
              "      <td>0</td>\n",
              "      <td>4</td>\n",
              "      <td>0</td>\n",
              "      <td>16</td>\n",
              "      <td>17</td>\n",
              "      <td>0</td>\n",
              "      <td>1</td>\n",
              "      <td>8</td>\n",
              "    </tr>\n",
              "    <tr>\n",
              "      <th>Tomato_Tomato_YellowLeaf_Curl_Virus</th>\n",
              "      <td>0</td>\n",
              "      <td>0</td>\n",
              "      <td>0</td>\n",
              "      <td>0</td>\n",
              "      <td>0</td>\n",
              "      <td>0</td>\n",
              "      <td>0</td>\n",
              "      <td>0</td>\n",
              "      <td>0</td>\n",
              "      <td>0</td>\n",
              "      <td>0</td>\n",
              "      <td>0</td>\n",
              "      <td>32</td>\n",
              "      <td>0</td>\n",
              "      <td>0</td>\n",
              "    </tr>\n",
              "    <tr>\n",
              "      <th>Tomato_Tomato_mosaic_virus</th>\n",
              "      <td>0</td>\n",
              "      <td>0</td>\n",
              "      <td>0</td>\n",
              "      <td>0</td>\n",
              "      <td>0</td>\n",
              "      <td>0</td>\n",
              "      <td>0</td>\n",
              "      <td>0</td>\n",
              "      <td>0</td>\n",
              "      <td>0</td>\n",
              "      <td>0</td>\n",
              "      <td>0</td>\n",
              "      <td>0</td>\n",
              "      <td>39</td>\n",
              "      <td>0</td>\n",
              "    </tr>\n",
              "    <tr>\n",
              "      <th>Tomato_healthy</th>\n",
              "      <td>0</td>\n",
              "      <td>0</td>\n",
              "      <td>0</td>\n",
              "      <td>0</td>\n",
              "      <td>0</td>\n",
              "      <td>0</td>\n",
              "      <td>0</td>\n",
              "      <td>0</td>\n",
              "      <td>0</td>\n",
              "      <td>0</td>\n",
              "      <td>0</td>\n",
              "      <td>0</td>\n",
              "      <td>0</td>\n",
              "      <td>0</td>\n",
              "      <td>30</td>\n",
              "    </tr>\n",
              "  </tbody>\n",
              "</table>\n",
              "</div>\n",
              "      <button class=\"colab-df-convert\" onclick=\"convertToInteractive('df-a4de9397-b8a8-4352-95dd-1bf0abdab257')\"\n",
              "              title=\"Convert this dataframe to an interactive table.\"\n",
              "              style=\"display:none;\">\n",
              "        \n",
              "  <svg xmlns=\"http://www.w3.org/2000/svg\" height=\"24px\"viewBox=\"0 0 24 24\"\n",
              "       width=\"24px\">\n",
              "    <path d=\"M0 0h24v24H0V0z\" fill=\"none\"/>\n",
              "    <path d=\"M18.56 5.44l.94 2.06.94-2.06 2.06-.94-2.06-.94-.94-2.06-.94 2.06-2.06.94zm-11 1L8.5 8.5l.94-2.06 2.06-.94-2.06-.94L8.5 2.5l-.94 2.06-2.06.94zm10 10l.94 2.06.94-2.06 2.06-.94-2.06-.94-.94-2.06-.94 2.06-2.06.94z\"/><path d=\"M17.41 7.96l-1.37-1.37c-.4-.4-.92-.59-1.43-.59-.52 0-1.04.2-1.43.59L10.3 9.45l-7.72 7.72c-.78.78-.78 2.05 0 2.83L4 21.41c.39.39.9.59 1.41.59.51 0 1.02-.2 1.41-.59l7.78-7.78 2.81-2.81c.8-.78.8-2.07 0-2.86zM5.41 20L4 18.59l7.72-7.72 1.47 1.35L5.41 20z\"/>\n",
              "  </svg>\n",
              "      </button>\n",
              "      \n",
              "  <style>\n",
              "    .colab-df-container {\n",
              "      display:flex;\n",
              "      flex-wrap:wrap;\n",
              "      gap: 12px;\n",
              "    }\n",
              "\n",
              "    .colab-df-convert {\n",
              "      background-color: #E8F0FE;\n",
              "      border: none;\n",
              "      border-radius: 50%;\n",
              "      cursor: pointer;\n",
              "      display: none;\n",
              "      fill: #1967D2;\n",
              "      height: 32px;\n",
              "      padding: 0 0 0 0;\n",
              "      width: 32px;\n",
              "    }\n",
              "\n",
              "    .colab-df-convert:hover {\n",
              "      background-color: #E2EBFA;\n",
              "      box-shadow: 0px 1px 2px rgba(60, 64, 67, 0.3), 0px 1px 3px 1px rgba(60, 64, 67, 0.15);\n",
              "      fill: #174EA6;\n",
              "    }\n",
              "\n",
              "    [theme=dark] .colab-df-convert {\n",
              "      background-color: #3B4455;\n",
              "      fill: #D2E3FC;\n",
              "    }\n",
              "\n",
              "    [theme=dark] .colab-df-convert:hover {\n",
              "      background-color: #434B5C;\n",
              "      box-shadow: 0px 1px 3px 1px rgba(0, 0, 0, 0.15);\n",
              "      filter: drop-shadow(0px 1px 2px rgba(0, 0, 0, 0.3));\n",
              "      fill: #FFFFFF;\n",
              "    }\n",
              "  </style>\n",
              "\n",
              "      <script>\n",
              "        const buttonEl =\n",
              "          document.querySelector('#df-a4de9397-b8a8-4352-95dd-1bf0abdab257 button.colab-df-convert');\n",
              "        buttonEl.style.display =\n",
              "          google.colab.kernel.accessAllowed ? 'block' : 'none';\n",
              "\n",
              "        async function convertToInteractive(key) {\n",
              "          const element = document.querySelector('#df-a4de9397-b8a8-4352-95dd-1bf0abdab257');\n",
              "          const dataTable =\n",
              "            await google.colab.kernel.invokeFunction('convertToInteractive',\n",
              "                                                     [key], {});\n",
              "          if (!dataTable) return;\n",
              "\n",
              "          const docLinkHtml = 'Like what you see? Visit the ' +\n",
              "            '<a target=\"_blank\" href=https://colab.research.google.com/notebooks/data_table.ipynb>data table notebook</a>'\n",
              "            + ' to learn more about interactive tables.';\n",
              "          element.innerHTML = '';\n",
              "          dataTable['output_type'] = 'display_data';\n",
              "          await google.colab.output.renderOutput(dataTable, element);\n",
              "          const docLink = document.createElement('div');\n",
              "          docLink.innerHTML = docLinkHtml;\n",
              "          element.appendChild(docLink);\n",
              "        }\n",
              "      </script>\n",
              "    </div>\n",
              "  </div>\n",
              "  "
            ]
          },
          "metadata": {},
          "execution_count": 53
        }
      ],
      "source": [
        "df_cm"
      ]
    },
    {
      "cell_type": "code",
      "execution_count": null,
      "metadata": {
        "colab": {
          "base_uri": "https://localhost:8080/",
          "height": 52
        },
        "id": "6CvxrculMcEK",
        "outputId": "8f285087-aa18-4cb4-8e85-772c08be3a2d"
      },
      "outputs": [
        {
          "output_type": "execute_result",
          "data": {
            "text/plain": [
              "<Figure size 720x504 with 0 Axes>"
            ]
          },
          "metadata": {},
          "execution_count": 54
        },
        {
          "output_type": "display_data",
          "data": {
            "text/plain": [
              "<Figure size 720x504 with 0 Axes>"
            ]
          },
          "metadata": {}
        }
      ],
      "source": [
        "plt.figure(figsize = (10,7))"
      ]
    },
    {
      "cell_type": "code",
      "execution_count": null,
      "metadata": {
        "colab": {
          "base_uri": "https://localhost:8080/",
          "height": 531
        },
        "id": "FmvnlN6pMcEL",
        "outputId": "22a0c0af-a706-46c3-fccd-580b1fc8d788"
      },
      "outputs": [
        {
          "output_type": "execute_result",
          "data": {
            "text/plain": [
              "Text(32.093749999999986, 0.5, 'True Classes')"
            ]
          },
          "metadata": {},
          "execution_count": 55
        },
        {
          "output_type": "display_data",
          "data": {
            "text/plain": [
              "<Figure size 432x288 with 2 Axes>"
            ],
            "image/png": "[encoded data removed]"
          },
          "metadata": {
            "needs_background": "light"
          }
        }
      ],
      "source": [
        "confusion_matrics = sn.heatmap(df_cm, annot  =True)\n",
        "confusion_matrics.set_xlabel('Predicted Classes', fontsize=20)\n",
        "confusion_matrics.set_ylabel('True Classes', fontsize=20)"
      ]
    },
    {
      "cell_type": "markdown",
      "source": [
        "# **End of Code**"
      ],
      "metadata": {
        "id": "7Ju6CiuQC_0n"
      }
    }
  ]
}