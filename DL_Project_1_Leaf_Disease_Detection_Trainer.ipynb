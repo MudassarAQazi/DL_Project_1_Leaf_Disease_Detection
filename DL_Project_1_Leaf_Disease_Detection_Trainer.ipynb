{
  "cells": [
    {
      "cell_type": "markdown",
      "metadata": {
        "id": "view-in-github",
        "colab_type": "text"
      },
      "source": [
        "<a href=\"https://colab.research.google.com/github/MudassarAQazi/DL_Project_1_Leaf_Disease_Detection/blob/main/DL_Project_1_Leaf_Disease_Detection_Trainer.ipynb\" target=\"_parent\"><img src=\"https://colab.research.google.com/assets/colab-badge.svg\" alt=\"Open In Colab\"/></a>"
      ]
    },
    {
      "cell_type": "markdown",
      "metadata": {
        "id": "oM_8ELnJq_wd"
      },
      "source": [
        "## Enabling and testing the GPU\n",
        "\n",
        "First, you'll need to enable GPUs for the notebook:\n",
        "\n",
        "- Navigate to Edit→Notebook Settings\n",
        "- select GPU from the Hardware Accelerator drop-down\n",
        "\n",
        "Next, we'll confirm that we can connect to the GPU with tensorflow:"
      ]
    },
    {
      "cell_type": "code",
      "execution_count": null,
      "metadata": {
        "colab": {
          "base_uri": "https://localhost:8080/"
        },
        "id": "9b0PcUekNELu",
        "outputId": "6441cc1b-0fad-4a32-8a13-353f920b23f2"
      },
      "outputs": [
        {
          "output_type": "stream",
          "name": "stdout",
          "text": [
            "Found GPU at: /device:GPU:0\n"
          ]
        }
      ],
      "source": [
        "import tensorflow as tf\n",
        "device_name = tf.test.gpu_device_name()\n",
        "if device_name != '/device:GPU:0':\n",
        "  raise SystemError('GPU device not found')\n",
        "print('Found GPU at: {}'.format(device_name))"
      ]
    },
    {
      "cell_type": "markdown",
      "metadata": {
        "id": "v3fE7KmKRDsH"
      },
      "source": [
        "## Observe TensorFlow speedup on GPU relative to CPU\n",
        "\n",
        "This example constructs a typical convolutional neural network layer over a\n",
        "random image and manually places the resulting ops on either the CPU or the GPU\n",
        "to compare execution speed."
      ]
    },
    {
      "cell_type": "code",
      "execution_count": null,
      "metadata": {
        "colab": {
          "base_uri": "https://localhost:8080/"
        },
        "id": "Nh-ngOehNQGD",
        "outputId": "04029f1c-c5ca-40d2-c658-3764e522bfd0"
      },
      "outputs": [
        {
          "output_type": "stream",
          "name": "stdout",
          "text": [
            "Time (s) to convolve 32x7x7x3 filter over random 100x100x100x3 images (batch x height x width x channel). Sum of ten runs.\n",
            "CPU (s):\n",
            "5.923254259999993\n",
            "GPU (s):\n",
            "0.08065459499999861\n",
            "GPU speedup over CPU: 73x\n"
          ]
        }
      ],
      "source": [
        "import tensorflow as tf\n",
        "import timeit\n",
        "\n",
        "device_name = tf.test.gpu_device_name()\n",
        "if device_name != '/device:GPU:0':\n",
        "  print(\n",
        "      '\\n\\nThis error most likely means that this notebook is not '\n",
        "      'configured to use a GPU.  Change this in Notebook Settings via the '\n",
        "      'command palette (cmd/ctrl-shift-P) or the Edit menu.\\n\\n')\n",
        "  raise SystemError('GPU device not found')\n",
        "\n",
        "def cpu():\n",
        "  with tf.device('/cpu:0'):\n",
        "    random_image_cpu = tf.random.normal((100, 100, 100, 3))\n",
        "    net_cpu = tf.keras.layers.Conv2D(32, 7)(random_image_cpu)\n",
        "    return tf.math.reduce_sum(net_cpu)\n",
        "\n",
        "def gpu():\n",
        "  with tf.device('/device:GPU:0'):\n",
        "    random_image_gpu = tf.random.normal((100, 100, 100, 3))\n",
        "    net_gpu = tf.keras.layers.Conv2D(32, 7)(random_image_gpu)\n",
        "    return tf.math.reduce_sum(net_gpu)\n",
        "  \n",
        "# We run each op once to warm up; see: https://stackoverflow.com/a/45067900\n",
        "cpu()\n",
        "gpu()\n",
        "\n",
        "# Run the op several times.\n",
        "print('Time (s) to convolve 32x7x7x3 filter over random 100x100x100x3 images '\n",
        "      '(batch x height x width x channel). Sum of ten runs.')\n",
        "print('CPU (s):')\n",
        "cpu_time = timeit.timeit('cpu()', number=10, setup=\"from __main__ import cpu\")\n",
        "print(cpu_time)\n",
        "print('GPU (s):')\n",
        "gpu_time = timeit.timeit('gpu()', number=10, setup=\"from __main__ import gpu\")\n",
        "print(gpu_time)\n",
        "print('GPU speedup over CPU: {}x'.format(int(cpu_time/gpu_time)))"
      ]
    },
    {
      "cell_type": "code",
      "execution_count": null,
      "metadata": {
        "colab": {
          "base_uri": "https://localhost:8080/"
        },
        "id": "tZRo4GpycZqy",
        "outputId": "35708912-b0f6-4742-c9f9-f5992226711a"
      },
      "outputs": [
        {
          "output_type": "stream",
          "name": "stdout",
          "text": [
            "Looking in indexes: https://pypi.org/simple, https://us-python.pkg.dev/colab-wheels/public/simple/\n",
            "Collecting onnxruntime\n",
            "  Downloading onnxruntime-1.13.1-cp38-cp38-manylinux_2_27_x86_64.whl (4.5 MB)\n",
            "\u001b[2K     \u001b[90m━━━━━━━━━━━━━━━━━━━━━━━━━━━━━━━━━━━━━━━━\u001b[0m \u001b[32m4.5/4.5 MB\u001b[0m \u001b[31m50.3 MB/s\u001b[0m eta \u001b[36m0:00:00\u001b[0m\n",
            "\u001b[?25hCollecting coloredlogs\n",
            "  Downloading coloredlogs-15.0.1-py2.py3-none-any.whl (46 kB)\n",
            "\u001b[2K     \u001b[90m━━━━━━━━━━━━━━━━━━━━━━━━━━━━━━━━━━━━━━━━\u001b[0m \u001b[32m46.0/46.0 KB\u001b[0m \u001b[31m5.4 MB/s\u001b[0m eta \u001b[36m0:00:00\u001b[0m\n",
            "\u001b[?25hRequirement already satisfied: flatbuffers in /usr/local/lib/python3.8/dist-packages (from onnxruntime) (1.12)\n",
            "Requirement already satisfied: sympy in /usr/local/lib/python3.8/dist-packages (from onnxruntime) (1.7.1)\n",
            "Requirement already satisfied: packaging in /usr/local/lib/python3.8/dist-packages (from onnxruntime) (21.3)\n",
            "Requirement already satisfied: protobuf in /usr/local/lib/python3.8/dist-packages (from onnxruntime) (3.19.6)\n",
            "Requirement already satisfied: numpy>=1.21.6 in /usr/local/lib/python3.8/dist-packages (from onnxruntime) (1.21.6)\n",
            "Collecting humanfriendly>=9.1\n",
            "  Downloading humanfriendly-10.0-py2.py3-none-any.whl (86 kB)\n",
            "\u001b[2K     \u001b[90m━━━━━━━━━━━━━━━━━━━━━━━━━━━━━━━━━━━━━━━━\u001b[0m \u001b[32m86.8/86.8 KB\u001b[0m \u001b[31m10.7 MB/s\u001b[0m eta \u001b[36m0:00:00\u001b[0m\n",
            "\u001b[?25hRequirement already satisfied: pyparsing!=3.0.5,>=2.0.2 in /usr/local/lib/python3.8/dist-packages (from packaging->onnxruntime) (3.0.9)\n",
            "Requirement already satisfied: mpmath>=0.19 in /usr/local/lib/python3.8/dist-packages (from sympy->onnxruntime) (1.2.1)\n",
            "Installing collected packages: humanfriendly, coloredlogs, onnxruntime\n",
            "Successfully installed coloredlogs-15.0.1 humanfriendly-10.0 onnxruntime-1.13.1\n"
          ]
        }
      ],
      "source": [
        "!pip install onnxruntime"
      ]
    },
    {
      "cell_type": "code",
      "execution_count": null,
      "metadata": {
        "colab": {
          "base_uri": "https://localhost:8080/"
        },
        "id": "8pBI5aVhcnk6",
        "outputId": "4a91889e-4c57-4684-d4d8-601113c585e1"
      },
      "outputs": [
        {
          "output_type": "stream",
          "name": "stdout",
          "text": [
            "Looking in indexes: https://pypi.org/simple, https://us-python.pkg.dev/colab-wheels/public/simple/\n",
            "Collecting tf2onnx\n",
            "  Downloading tf2onnx-1.13.0-py3-none-any.whl (442 kB)\n",
            "\u001b[2K     \u001b[90m━━━━━━━━━━━━━━━━━━━━━━━━━━━━━━━━━━━━━━\u001b[0m \u001b[32m442.3/442.3 KB\u001b[0m \u001b[31m30.2 MB/s\u001b[0m eta \u001b[36m0:00:00\u001b[0m\n",
            "\u001b[?25hRequirement already satisfied: flatbuffers<3.0,>=1.12 in /usr/local/lib/python3.8/dist-packages (from tf2onnx) (1.12)\n",
            "Requirement already satisfied: numpy>=1.14.1 in /usr/local/lib/python3.8/dist-packages (from tf2onnx) (1.21.6)\n",
            "Collecting onnx>=1.4.1\n",
            "  Downloading onnx-1.13.0-cp38-cp38-manylinux_2_17_x86_64.manylinux2014_x86_64.whl (13.5 MB)\n",
            "\u001b[2K     \u001b[90m━━━━━━━━━━━━━━━━━━━━━━━━━━━━━━━━━━━━━━━━\u001b[0m \u001b[32m13.5/13.5 MB\u001b[0m \u001b[31m85.8 MB/s\u001b[0m eta \u001b[36m0:00:00\u001b[0m\n",
            "\u001b[?25hRequirement already satisfied: requests in /usr/local/lib/python3.8/dist-packages (from tf2onnx) (2.25.1)\n",
            "Requirement already satisfied: six in /usr/local/lib/python3.8/dist-packages (from tf2onnx) (1.15.0)\n",
            "Requirement already satisfied: typing-extensions>=3.6.2.1 in /usr/local/lib/python3.8/dist-packages (from onnx>=1.4.1->tf2onnx) (4.4.0)\n",
            "Collecting protobuf<4,>=3.20.2\n",
            "  Downloading protobuf-3.20.3-cp38-cp38-manylinux_2_5_x86_64.manylinux1_x86_64.whl (1.0 MB)\n",
            "\u001b[2K     \u001b[90m━━━━━━━━━━━━━━━━━━━━━━━━━━━━━━━━━━━━━━━━\u001b[0m \u001b[32m1.0/1.0 MB\u001b[0m \u001b[31m73.2 MB/s\u001b[0m eta \u001b[36m0:00:00\u001b[0m\n",
            "\u001b[?25hRequirement already satisfied: certifi>=2017.4.17 in /usr/local/lib/python3.8/dist-packages (from requests->tf2onnx) (2022.12.7)\n",
            "Requirement already satisfied: chardet<5,>=3.0.2 in /usr/local/lib/python3.8/dist-packages (from requests->tf2onnx) (4.0.0)\n",
            "Requirement already satisfied: idna<3,>=2.5 in /usr/local/lib/python3.8/dist-packages (from requests->tf2onnx) (2.10)\n",
            "Requirement already satisfied: urllib3<1.27,>=1.21.1 in /usr/local/lib/python3.8/dist-packages (from requests->tf2onnx) (1.24.3)\n",
            "Installing collected packages: protobuf, onnx, tf2onnx\n",
            "  Attempting uninstall: protobuf\n",
            "    Found existing installation: protobuf 3.19.6\n",
            "    Uninstalling protobuf-3.19.6:\n",
            "      Successfully uninstalled protobuf-3.19.6\n",
            "\u001b[31mERROR: pip's dependency resolver does not currently take into account all the packages that are installed. This behaviour is the source of the following dependency conflicts.\n",
            "tensorflow 2.9.2 requires protobuf<3.20,>=3.9.2, but you have protobuf 3.20.3 which is incompatible.\n",
            "tensorboard 2.9.1 requires protobuf<3.20,>=3.9.2, but you have protobuf 3.20.3 which is incompatible.\u001b[0m\u001b[31m\n",
            "\u001b[0mSuccessfully installed onnx-1.13.0 protobuf-3.20.3 tf2onnx-1.13.0\n"
          ]
        }
      ],
      "source": [
        "!pip install -U tf2onnx"
      ]
    },
    {
      "cell_type": "markdown",
      "metadata": {
        "id": "LFcI0kU_FLUQ"
      },
      "source": [
        "Importing required Libraries"
      ]
    },
    {
      "cell_type": "code",
      "execution_count": null,
      "metadata": {
        "id": "rft62sPMCPJH"
      },
      "outputs": [],
      "source": [
        "import numpy as np\n",
        "import pickle\n",
        "import h5py\n",
        "import cv2\n",
        "import os\n",
        "from os import listdir\n",
        "from tensorflow import keras as k\n",
        "from sklearn.preprocessing import LabelBinarizer\n",
        "from keras.models import Sequential\n",
        "from tensorflow.keras.layers import BatchNormalization\n",
        "from keras.layers.convolutional import Conv2D\n",
        "# from keras.layers import LeakyRelu\n",
        "from keras.layers.convolutional import MaxPooling2D\n",
        "from keras.layers.core import Activation, Flatten, Dropout, Dense\n",
        "from keras import backend as K\n",
        "from keras.preprocessing.image import ImageDataGenerator\n",
        "from keras.optimizers import Adam\n",
        "from keras.callbacks import EarlyStopping\n",
        "from keras.preprocessing import image\n",
        "from keras_preprocessing.image import img_to_array\n",
        "from keras.utils.vis_utils import plot_model\n",
        "from sklearn.preprocessing import MultiLabelBinarizer\n",
        "from sklearn.model_selection import train_test_split\n",
        "import matplotlib.pyplot as plt\n",
        "\n",
        "# Example of loading an image with the Keras API\n",
        "from keras_preprocessing.image import load_img"
      ]
    },
    {
      "cell_type": "markdown",
      "metadata": {
        "id": "Kg67eOJ6FhbM"
      },
      "source": [
        "Parameters Initialization including the folder path."
      ]
    },
    {
      "cell_type": "code",
      "execution_count": null,
      "metadata": {
        "id": "CQVv2biXI664"
      },
      "outputs": [],
      "source": [
        "# from google.colab import drive\n",
        "# drive.mount('/content/drive')"
      ]
    },
    {
      "cell_type": "code",
      "execution_count": null,
      "metadata": {
        "colab": {
          "base_uri": "https://localhost:8080/"
        },
        "id": "PO_3x_HLb3XA",
        "outputId": "ae446b8d-c642-4eaa-d7f8-629a0e3437e3"
      },
      "outputs": [
        {
          "data": {
            "text/plain": [
              "'C:\\\\Users\\\\HOME'"
            ]
          },
          "execution_count": 9,
          "metadata": {},
          "output_type": "execute_result"
        }
      ],
      "source": [
        "# !pwd\n",
        "os.getcwd()"
      ]
    },
    {
      "cell_type": "code",
      "execution_count": null,
      "metadata": {
        "colab": {
          "base_uri": "https://localhost:8080/"
        },
        "id": "mmItPgBxAaU8",
        "outputId": "70512679-85ea-43b8-c038-dc77b677452d"
      },
      "outputs": [
        {
          "output_type": "stream",
          "name": "stdout",
          "text": [
            "Mounted at /content/drive\n"
          ]
        }
      ],
      "source": [
        "from google.colab import drive\n",
        "drive.mount('/content/drive')"
      ]
    },
    {
      "cell_type": "code",
      "execution_count": null,
      "metadata": {
        "id": "Cef6r25vDhno"
      },
      "outputs": [],
      "source": [
        "EPOCHS = 500\n",
        "INIT_LR = 1e-3\n",
        "BS = 32\n",
        "default_image_size = tuple((256, 256))\n",
        "image_size = 0\n",
        "directory_root = \"../content/drive/MyDrive/PlantVillage\"\n",
        "# directory_root = \"Downloads\\DL\\PlantVillage\"\n",
        "width=256\n",
        "height=256\n",
        "depth=3"
      ]
    },
    {
      "cell_type": "code",
      "execution_count": null,
      "metadata": {
        "colab": {
          "base_uri": "https://localhost:8080/"
        },
        "id": "zFUP2GLFcW4-",
        "outputId": "f4683433-4783-44c1-8f78-3d5b2f48b975"
      },
      "outputs": [
        {
          "output_type": "stream",
          "name": "stdout",
          "text": [
            "../content/drive/MyDrive/PlantVillage\n"
          ]
        }
      ],
      "source": [
        "# !pwd\n",
        "print(directory_root)"
      ]
    },
    {
      "cell_type": "markdown",
      "metadata": {
        "id": "IVOtK08MFiRL"
      },
      "source": [
        "Function that convert image into an array."
      ]
    },
    {
      "cell_type": "code",
      "execution_count": null,
      "metadata": {
        "id": "DpSxx6WIE_l-"
      },
      "outputs": [],
      "source": [
        "def convert_image_to_array(image_dir):\n",
        "    try:\n",
        "        image = cv2.imread(image_dir)\n",
        "        if image is not None :\n",
        "            image = cv2.resize(image, default_image_size)   \n",
        "            return img_to_array(image)\n",
        "        else :\n",
        "            return np.array([])\n",
        "    except Exception as e:\n",
        "        print(f\"Error : {e}\")\n",
        "        return None"
      ]
    },
    {
      "cell_type": "markdown",
      "metadata": {
        "id": "iwsOlTUmFjEL"
      },
      "source": [
        "Fetching images from the directories and saving it into an Array."
      ]
    },
    {
      "cell_type": "code",
      "execution_count": null,
      "metadata": {
        "colab": {
          "base_uri": "https://localhost:8080/"
        },
        "id": "DHHWGKHPFHE0",
        "outputId": "5122e5cc-0a7c-42a2-d59e-1fed11b67251"
      },
      "outputs": [
        {
          "output_type": "stream",
          "name": "stdout",
          "text": [
            "[INFO] Loading images ...\n",
            "[INFO] Processing Tomato_Late_blight ...\n",
            "[INFO] Processing Tomato_Spider_mites_Two_spotted_spider_mite ...\n",
            "[INFO] Processing Tomato_Leaf_Mold ...\n",
            "[INFO] Processing Tomato_healthy ...\n",
            "[INFO] Processing Tomato_Septoria_leaf_spot ...\n",
            "[INFO] Processing Tomato_Early_blight ...\n",
            "[INFO] Processing Tomato_Bacterial_spot ...\n",
            "[INFO] Processing Pepper_bell_Bacterial_spot ...\n",
            "[INFO] Processing Pepper_bell_healthy ...\n",
            "[INFO] Processing Potato_Early_blight ...\n",
            "[INFO] Processing Potato_healthy ...\n",
            "[INFO] Processing Potato_Late_blight ...\n",
            "[INFO] Processing Tomato_Target_Spot ...\n",
            "[INFO] Processing Tomato_Tomato_mosaic_virus ...\n",
            "[INFO] Processing Tomato_Tomato_YellowLeaf_Curl_Virus ...\n",
            "[INFO] Image loading completed\n"
          ]
        }
      ],
      "source": [
        "image_list, label_list = [], []\n",
        "try:\n",
        "    print(\"[INFO] Loading images ...\")\n",
        "    root_dir = listdir(directory_root)\n",
        "    for directory in root_dir :\n",
        "        # remove .DS_Store from list\n",
        "        if directory == \".DS_Store\" :\n",
        "            root_dir.remove(directory)\n",
        "\n",
        "    for plant_folder in root_dir :\n",
        "        plant_disease_folder_list = listdir(f\"{directory_root}/{plant_folder}\")\n",
        "        \n",
        "        for disease_folder in plant_disease_folder_list :\n",
        "            # remove .DS_Store from list\n",
        "            if disease_folder == \".DS_Store\" :\n",
        "                plant_disease_folder_list.remove(disease_folder)\n",
        "\n",
        "        for plant_disease_folder in plant_disease_folder_list:\n",
        "            print(f\"[INFO] Processing {plant_disease_folder} ...\")\n",
        "            plant_disease_image_list = listdir(f\"{directory_root}/{plant_folder}/{plant_disease_folder}\")\n",
        "                \n",
        "            for single_plant_disease_image in plant_disease_image_list :\n",
        "                if single_plant_disease_image == \".DS_Store\" :\n",
        "                    plant_disease_image_list.remove(single_plant_disease_image)\n",
        "\n",
        "            for image in plant_disease_image_list[:200]:\n",
        "                image_directory = f\"{directory_root}/{plant_folder}/{plant_disease_folder}/{image}\"\n",
        "                if image_directory.endswith(\".jpg\") == True or image_directory.endswith(\".JPG\") == True:\n",
        "                    image_list.append(convert_image_to_array(image_directory))\n",
        "                    label_list.append(plant_disease_folder)\n",
        "    print(\"[INFO] Image loading completed\")  \n",
        "except Exception as e:\n",
        "    print(f\"Error : {e}\")"
      ]
    },
    {
      "cell_type": "markdown",
      "metadata": {
        "id": "JfuqO3woi_FH"
      },
      "source": []
    },
    {
      "cell_type": "code",
      "execution_count": null,
      "metadata": {
        "id": "d9U77hhVHQcT"
      },
      "outputs": [],
      "source": [
        "image_size = len(image_list)"
      ]
    },
    {
      "cell_type": "code",
      "execution_count": null,
      "metadata": {
        "id": "CIT6ZQM6HSs5"
      },
      "outputs": [],
      "source": [
        "label_binarizer = LabelBinarizer()\n",
        "image_labels = label_binarizer.fit_transform(label_list)\n",
        "pickle.dump(label_binarizer,open('label_transform.pkl', 'wb'))\n",
        "n_classes = len(label_binarizer.classes_)"
      ]
    },
    {
      "cell_type": "markdown",
      "metadata": {
        "id": "Sw7RuzylKRhP"
      },
      "source": []
    },
    {
      "cell_type": "code",
      "execution_count": null,
      "metadata": {
        "id": "kLaFMiuCHSpW",
        "colab": {
          "base_uri": "https://localhost:8080/"
        },
        "outputId": "7286af6d-d1ff-42ab-88df-28f158482863"
      },
      "outputs": [
        {
          "output_type": "stream",
          "name": "stdout",
          "text": [
            "['Pepper_bell_Bacterial_spot' 'Pepper_bell_healthy' 'Potato_Early_blight'\n",
            " 'Potato_Late_blight' 'Potato_healthy' 'Tomato_Bacterial_spot'\n",
            " 'Tomato_Early_blight' 'Tomato_Late_blight' 'Tomato_Leaf_Mold'\n",
            " 'Tomato_Septoria_leaf_spot' 'Tomato_Spider_mites_Two_spotted_spider_mite'\n",
            " 'Tomato_Target_Spot' 'Tomato_Tomato_YellowLeaf_Curl_Virus'\n",
            " 'Tomato_Tomato_mosaic_virus' 'Tomato_healthy']\n"
          ]
        }
      ],
      "source": [
        "print(label_binarizer.classes_)"
      ]
    },
    {
      "cell_type": "markdown",
      "metadata": {
        "id": "Q6qzL8opKSNm"
      },
      "source": []
    },
    {
      "cell_type": "code",
      "execution_count": null,
      "metadata": {
        "id": "1PQMpCDsHSlO"
      },
      "outputs": [],
      "source": [
        "np_image_list = np.array(image_list, dtype=np.float16) / 225.0"
      ]
    },
    {
      "cell_type": "markdown",
      "metadata": {
        "id": "0coSIXwgKTGl"
      },
      "source": []
    },
    {
      "cell_type": "code",
      "execution_count": null,
      "metadata": {
        "id": "ov0sy-w8HShp",
        "colab": {
          "base_uri": "https://localhost:8080/"
        },
        "outputId": "e2090217-a549-4e9c-caa7-b6213efd45e5"
      },
      "outputs": [
        {
          "output_type": "stream",
          "name": "stdout",
          "text": [
            "[INFO] Spliting data to train, test\n"
          ]
        }
      ],
      "source": [
        "print(\"[INFO] Spliting data to train, test\")\n",
        "x_train, x_test, y_train, y_test = train_test_split(np_image_list, image_labels, test_size=0.2, random_state = 42) "
      ]
    },
    {
      "cell_type": "code",
      "source": [
        "x_train.shape[0]"
      ],
      "metadata": {
        "colab": {
          "base_uri": "https://localhost:8080/"
        },
        "id": "Qp03cPubb8Du",
        "outputId": "aa7bc933-4aff-482a-ac57-958b99adbd87"
      },
      "execution_count": null,
      "outputs": [
        {
          "output_type": "execute_result",
          "data": {
            "text/plain": [
              "2361"
            ]
          },
          "metadata": {},
          "execution_count": 15
        }
      ]
    },
    {
      "cell_type": "code",
      "source": [
        "y_train.shape[0]"
      ],
      "metadata": {
        "colab": {
          "base_uri": "https://localhost:8080/"
        },
        "id": "QjNbtXvKcXhv",
        "outputId": "e5c1fd37-e09d-44e1-c2e1-101a140a5b39"
      },
      "execution_count": null,
      "outputs": [
        {
          "output_type": "execute_result",
          "data": {
            "text/plain": [
              "2361"
            ]
          },
          "metadata": {},
          "execution_count": 16
        }
      ]
    },
    {
      "cell_type": "code",
      "source": [
        "boom = np.argmax(y_train, axis = 1)"
      ],
      "metadata": {
        "id": "rwxSHy5ufWCn"
      },
      "execution_count": null,
      "outputs": []
    },
    {
      "cell_type": "code",
      "source": [
        "boom = list(boom)"
      ],
      "metadata": {
        "id": "H0GwJhWJgcQ4"
      },
      "execution_count": null,
      "outputs": []
    },
    {
      "cell_type": "code",
      "source": [
        "val_keys = Counter(boom).keys() # equals to list(set(words))\n",
        "val_boom = Counter(boom).values()"
      ],
      "metadata": {
        "id": "GGKjaPbchTLF"
      },
      "execution_count": null,
      "outputs": []
    },
    {
      "cell_type": "code",
      "source": [
        "val_keys = list(val_keys)"
      ],
      "metadata": {
        "id": "9J9H5rVAhfBW"
      },
      "execution_count": null,
      "outputs": []
    },
    {
      "cell_type": "code",
      "source": [
        "val_boom = list(val_boom)"
      ],
      "metadata": {
        "id": "1Bw3IuM8hjqN"
      },
      "execution_count": null,
      "outputs": []
    },
    {
      "cell_type": "code",
      "source": [
        "val_boom"
      ],
      "metadata": {
        "colab": {
          "base_uri": "https://localhost:8080/"
        },
        "id": "Cpui_pSkiEVN",
        "outputId": "373ef91a-5a2f-431b-bcbe-abaa77ae5d2f"
      },
      "execution_count": null,
      "outputs": [
        {
          "output_type": "execute_result",
          "data": {
            "text/plain": [
              "[168, 160, 170, 162, 161, 164, 153, 149, 162, 154, 146, 125, 163, 155, 169]"
            ]
          },
          "metadata": {},
          "execution_count": 22
        }
      ]
    },
    {
      "cell_type": "code",
      "source": [
        "Z = [x for _,x in sorted(zip(val_keys,val_boom))]"
      ],
      "metadata": {
        "id": "fwGKEYvUh789"
      },
      "execution_count": null,
      "outputs": []
    },
    {
      "cell_type": "code",
      "source": [
        "Z"
      ],
      "metadata": {
        "colab": {
          "base_uri": "https://localhost:8080/"
        },
        "id": "IL_t1KUHiKK4",
        "outputId": "3bb973a0-5bc9-4335-8c07-753d179c281d"
      },
      "execution_count": null,
      "outputs": [
        {
          "output_type": "execute_result",
          "data": {
            "text/plain": [
              "[154, 162, 169, 164, 125, 153, 163, 155, 146, 162, 160, 149, 168, 161, 170]"
            ]
          },
          "metadata": {},
          "execution_count": 24
        }
      ]
    },
    {
      "cell_type": "code",
      "source": [
        "classes = label_binarizer.classes_"
      ],
      "metadata": {
        "id": "c9yYCVBZTw12"
      },
      "execution_count": null,
      "outputs": []
    },
    {
      "cell_type": "code",
      "source": [
        "n_classes"
      ],
      "metadata": {
        "colab": {
          "base_uri": "https://localhost:8080/"
        },
        "id": "NVrZW8GeVdPN",
        "outputId": "a92999bc-a7ab-4362-a932-ace5aca5b4ea"
      },
      "execution_count": null,
      "outputs": [
        {
          "output_type": "execute_result",
          "data": {
            "text/plain": [
              "15"
            ]
          },
          "metadata": {},
          "execution_count": 39
        }
      ]
    },
    {
      "cell_type": "code",
      "source": [
        "fig, ax = plt.subplots()\n",
        "rects1 = ax.bar(classes, Z, color ='green', width = 0.5)\n",
        "ax.set_title('Training Data')\n",
        "# ax.set_xticks(val_boom)\n",
        "ax.set_xticklabels(classes, )\n",
        "plt.xticks(rotation = 90) # Rotates X-Axis Ticks by 90-degrees\n",
        "ax.set_ylabel('Number of Images')\n",
        "\n",
        "plt.ylim(top=200) \n",
        "def autolabel(rects):\n",
        "    \"\"\"\n",
        "    Attach a text label above each bar displaying its height\n",
        "    \"\"\"\n",
        "    for rect in rects:\n",
        "        height = rect.get_height()\n",
        "        ax.text(rect.get_x() + rect.get_width()/2., 1.05*height,\n",
        "                '%d' % int(height),\n",
        "                ha='center', va='bottom')\n",
        "\n",
        "autolabel(rects1)\n",
        "plt.show()"
      ],
      "metadata": {
        "colab": {
          "base_uri": "https://localhost:8080/",
          "height": 507
        },
        "id": "QQxPIqIkTukn",
        "outputId": "ef1b7446-1648-4bbb-9714-46e363909ce1"
      },
      "execution_count": null,
      "outputs": [
        {
          "output_type": "display_data",
          "data": {
            "text/plain": [
              "<Figure size 432x288 with 1 Axes>"
            ],
            "image/png": "[encoded data removed]"
          },
          "metadata": {
            "needs_background": "light"
          }
        }
      ]
    },
    {
      "cell_type": "markdown",
      "metadata": {
        "id": "l3eqy2QIKUFY"
      },
      "source": []
    },
    {
      "cell_type": "code",
      "execution_count": null,
      "metadata": {
        "id": "UwhcW8jqHSb2"
      },
      "outputs": [],
      "source": [
        "aug = ImageDataGenerator(\n",
        "    rotation_range=25, width_shift_range=0.1,\n",
        "    height_shift_range=0.1, shear_range=0.2, \n",
        "    zoom_range=0.2,horizontal_flip=True, \n",
        "    fill_mode=\"nearest\")"
      ]
    },
    {
      "cell_type": "markdown",
      "metadata": {
        "id": "ve-3x1gpKU9Q"
      },
      "source": [
        "Setup for Tesnor board visualization"
      ]
    },
    {
      "cell_type": "code",
      "execution_count": null,
      "metadata": {
        "id": "zOFSL2YBMcD_"
      },
      "outputs": [],
      "source": [
        " k.backend.clear_session()"
      ]
    },
    {
      "cell_type": "code",
      "execution_count": null,
      "metadata": {
        "colab": {
          "base_uri": "https://localhost:8080/"
        },
        "id": "8kY_1FBsMcD_",
        "outputId": "105774bd-69cc-46ac-8520-cc2ca133cf02"
      },
      "outputs": [
        {
          "output_type": "stream",
          "name": "stdout",
          "text": [
            "Model: \"sequential\"\n",
            "_________________________________________________________________\n",
            " Layer (type)                Output Shape              Param #   \n",
            "=================================================================\n",
            " conv2d (Conv2D)             (None, 125, 125, 96)      14208     \n",
            "                                                                 \n",
            " leaky_re_lu (LeakyReLU)     (None, 125, 125, 96)      0         \n",
            "                                                                 \n",
            " batch_normalization (BatchN  (None, 125, 125, 96)     384       \n",
            " ormalization)                                                   \n",
            "                                                                 \n",
            " max_pooling2d (MaxPooling2D  (None, 42, 42, 96)       0         \n",
            " )                                                               \n",
            "                                                                 \n",
            " dropout (Dropout)           (None, 42, 42, 96)        0         \n",
            "                                                                 \n",
            " conv2d_1 (Conv2D)           (None, 42, 42, 256)       221440    \n",
            "                                                                 \n",
            " leaky_re_lu_1 (LeakyReLU)   (None, 42, 42, 256)       0         \n",
            "                                                                 \n",
            " batch_normalization_1 (Batc  (None, 42, 42, 256)      1024      \n",
            " hNormalization)                                                 \n",
            "                                                                 \n",
            " conv2d_2 (Conv2D)           (None, 42, 42, 384)       4817280   \n",
            "                                                                 \n",
            " leaky_re_lu_2 (LeakyReLU)   (None, 42, 42, 384)       0         \n",
            "                                                                 \n",
            " batch_normalization_2 (Batc  (None, 42, 42, 384)      1536      \n",
            " hNormalization)                                                 \n",
            "                                                                 \n",
            " conv2d_3 (Conv2D)           (None, 42, 42, 384)       11944320  \n",
            "                                                                 \n",
            " leaky_re_lu_3 (LeakyReLU)   (None, 42, 42, 384)       0         \n",
            "                                                                 \n",
            " batch_normalization_3 (Batc  (None, 42, 42, 384)      1536      \n",
            " hNormalization)                                                 \n",
            "                                                                 \n",
            " conv2d_4 (Conv2D)           (None, 42, 42, 384)       1327488   \n",
            "                                                                 \n",
            " leaky_re_lu_4 (LeakyReLU)   (None, 42, 42, 384)       0         \n",
            "                                                                 \n",
            " batch_normalization_4 (Batc  (None, 42, 42, 384)      1536      \n",
            " hNormalization)                                                 \n",
            "                                                                 \n",
            " max_pooling2d_1 (MaxPooling  (None, 14, 14, 384)      0         \n",
            " 2D)                                                             \n",
            "                                                                 \n",
            " dropout_1 (Dropout)         (None, 14, 14, 384)       0         \n",
            "                                                                 \n",
            " conv2d_5 (Conv2D)           (None, 14, 14, 256)       884992    \n",
            "                                                                 \n",
            " leaky_re_lu_5 (LeakyReLU)   (None, 14, 14, 256)       0         \n",
            "                                                                 \n",
            " batch_normalization_5 (Batc  (None, 14, 14, 256)      1024      \n",
            " hNormalization)                                                 \n",
            "                                                                 \n",
            " max_pooling2d_2 (MaxPooling  (None, 5, 5, 256)        0         \n",
            " 2D)                                                             \n",
            "                                                                 \n",
            " dropout_2 (Dropout)         (None, 5, 5, 256)         0         \n",
            "                                                                 \n",
            " flatten (Flatten)           (None, 6400)              0         \n",
            "                                                                 \n",
            " dense (Dense)               (None, 512)               3277312   \n",
            "                                                                 \n",
            " leaky_re_lu_6 (LeakyReLU)   (None, 512)               0         \n",
            "                                                                 \n",
            " batch_normalization_6 (Batc  (None, 512)              2048      \n",
            " hNormalization)                                                 \n",
            "                                                                 \n",
            " dropout_3 (Dropout)         (None, 512)               0         \n",
            "                                                                 \n",
            " dense_1 (Dense)             (None, 15)                7695      \n",
            "                                                                 \n",
            " activation (Activation)     (None, 15)                0         \n",
            "                                                                 \n",
            "=================================================================\n",
            "Total params: 22,503,823\n",
            "Trainable params: 22,499,279\n",
            "Non-trainable params: 4,544\n",
            "_________________________________________________________________\n",
            "None\n"
          ]
        }
      ],
      "source": [
        "model = Sequential()\n",
        "inputShape = (height, width, depth)\n",
        "chanDim = -1\n",
        "if K.image_data_format() == \"channels_first\":\n",
        "    inputShape = (depth, height, width)\n",
        "    chanDim = 1\n",
        "# Conv1\n",
        "model.add(Conv2D(96, (7, 7), padding=\"valid\",strides=2,input_shape=inputShape))\n",
        "model.add(k.layers.LeakyReLU(alpha=0.05))\n",
        "model.add(BatchNormalization(axis=chanDim))\n",
        "# Pool1\n",
        "model.add(MaxPooling2D(pool_size=(3, 3), padding = \"same\"))\n",
        "model.add(Dropout(0.25))\n",
        "# Conv2\n",
        "model.add(Conv2D(256, (3, 3), padding=\"same\",input_shape=inputShape))\n",
        "model.add(k.layers.LeakyReLU(alpha=0.05))\n",
        "model.add(BatchNormalization(axis=chanDim))\n",
        "# Conv3\n",
        "model.add(Conv2D(384, (7, 7), padding=\"same\",input_shape=inputShape))\n",
        "model.add(k.layers.LeakyReLU(alpha=0.05))\n",
        "model.add(BatchNormalization(axis=chanDim))\n",
        "# Conv4\n",
        "model.add(Conv2D(384, (9, 9), padding=\"same\",input_shape=inputShape))\n",
        "model.add(k.layers.LeakyReLU(alpha=0.05))\n",
        "model.add(BatchNormalization(axis=chanDim))\n",
        "# Conv5\n",
        "model.add(Conv2D(384, (3, 3), padding=\"same\",input_shape=inputShape))\n",
        "model.add(k.layers.LeakyReLU(alpha=0.05))\n",
        "model.add(BatchNormalization(axis=chanDim))\n",
        "# Pool5\n",
        "model.add(MaxPooling2D(pool_size=(3, 3), padding = \"same\"))\n",
        "model.add(Dropout(0.25))\n",
        "# Conv6\n",
        "model.add(Conv2D(256, (3, 3), padding=\"same\",input_shape=inputShape))\n",
        "model.add(k.layers.LeakyReLU(alpha=0.05))\n",
        "model.add(BatchNormalization(axis=chanDim))\n",
        "# Pool6\n",
        "model.add(MaxPooling2D(pool_size=(3, 3), padding = \"same\"))\n",
        "model.add(Dropout(0.25))\n",
        "# Flatten\n",
        "model.add(Flatten())\n",
        "# FC7\n",
        "model.add(Dense(512))\n",
        "model.add(k.layers.LeakyReLU(alpha=0.05))\n",
        "model.add(BatchNormalization())\n",
        "model.add(Dropout(0.5))\n",
        "# FC8\n",
        "model.add(Dense(n_classes))\n",
        "model.add(Activation(\"softmax\"))\n",
        "\n",
        "print(model.summary())"
      ]
    },
    {
      "cell_type": "code",
      "execution_count": null,
      "metadata": {
        "id": "322U2tL7HSOu",
        "outputId": "58bf935d-a353-4f22-e2f5-920462c28903"
      },
      "outputs": [
        {
          "name": "stdout",
          "output_type": "stream",
          "text": [
            "[INFO] Train the Network!!!\n"
          ]
        }
      ],
      "source": [
        "from keras import callbacks\n",
        "opt = Adam(learning_rate=INIT_LR, decay=INIT_LR / EPOCHS)\n",
        "# distribution\n",
        "model.compile(loss=\"binary_crossentropy\", optimizer=opt,metrics=[\"accuracy\"])\n",
        "earlystopping = callbacks.EarlyStopping(monitor = 'loss', \n",
        "                                        mode = 'min', patience = 25,\n",
        "                                        restore_best_weights = True)\n",
        "# train the network\n",
        "print(\"[INFO] Train the Network!!!\")"
      ]
    },
    {
      "cell_type": "markdown",
      "metadata": {
        "id": "G3vtdEzsKY8R"
      },
      "source": []
    },
    {
      "cell_type": "code",
      "execution_count": null,
      "metadata": {
        "id": "bRgbd2JRHSKk",
        "outputId": "f9780dee-22c9-4d29-f987-556874fa9122"
      },
      "outputs": [
        {
          "name": "stdout",
          "output_type": "stream",
          "text": [
            "[INFO] training network...\n",
            "Epoch 1/500\n",
            " 2/73 [..............................] - ETA: 39s - loss: 0.3721 - accuracy: 0.1094WARNING:tensorflow:Callbacks method `on_train_batch_end` is slow compared to the batch time (batch time: 0.1935s vs `on_train_batch_end` time: 0.9252s). Check your callbacks.\n",
            "73/73 [==============================] - 92s 1s/step - loss: 0.2731 - accuracy: 0.2400 - val_loss: 0.4167 - val_accuracy: 0.1117\n",
            "Epoch 2/500\n",
            "73/73 [==============================] - 85s 1s/step - loss: 0.2044 - accuracy: 0.4113 - val_loss: 0.9471 - val_accuracy: 0.0575\n",
            "Epoch 3/500\n",
            "73/73 [==============================] - 85s 1s/step - loss: 0.1804 - accuracy: 0.4766 - val_loss: 0.6870 - val_accuracy: 0.0761\n",
            "Epoch 4/500\n",
            "73/73 [==============================] - 86s 1s/step - loss: 0.1596 - accuracy: 0.5303 - val_loss: 0.5825 - val_accuracy: 0.1455\n",
            "Epoch 5/500\n",
            "73/73 [==============================] - 85s 1s/step - loss: 0.1314 - accuracy: 0.6024 - val_loss: 0.4066 - val_accuracy: 0.2521\n",
            "Epoch 6/500\n",
            "73/73 [==============================] - 85s 1s/step - loss: 0.1202 - accuracy: 0.6376 - val_loss: 0.3896 - val_accuracy: 0.3080\n",
            "Epoch 7/500\n",
            "73/73 [==============================] - 84s 1s/step - loss: 0.1064 - accuracy: 0.6750 - val_loss: 1.0185 - val_accuracy: 0.0914\n",
            "Epoch 8/500\n",
            "73/73 [==============================] - 84s 1s/step - loss: 0.0998 - accuracy: 0.7115 - val_loss: 0.8597 - val_accuracy: 0.1032\n",
            "Epoch 9/500\n",
            "73/73 [==============================] - 85s 1s/step - loss: 0.0938 - accuracy: 0.7243 - val_loss: 0.5171 - val_accuracy: 0.2132\n",
            "Epoch 10/500\n",
            "73/73 [==============================] - 85s 1s/step - loss: 0.0831 - accuracy: 0.7480 - val_loss: 0.3435 - val_accuracy: 0.3046\n",
            "Epoch 11/500\n",
            "73/73 [==============================] - 84s 1s/step - loss: 0.0860 - accuracy: 0.7544 - val_loss: 0.3351 - val_accuracy: 0.3976\n",
            "Epoch 12/500\n",
            "73/73 [==============================] - 84s 1s/step - loss: 0.0822 - accuracy: 0.7544 - val_loss: 0.2742 - val_accuracy: 0.4721\n",
            "Epoch 13/500\n",
            "73/73 [==============================] - 84s 1s/step - loss: 0.0689 - accuracy: 0.7935 - val_loss: 0.1679 - val_accuracy: 0.5651\n",
            "Epoch 14/500\n",
            "73/73 [==============================] - 85s 1s/step - loss: 0.0672 - accuracy: 0.8033 - val_loss: 0.6082 - val_accuracy: 0.2572\n",
            "Epoch 15/500\n",
            "73/73 [==============================] - 92s 1s/step - loss: 0.0593 - accuracy: 0.8218 - val_loss: 0.0854 - val_accuracy: 0.7631\n",
            "Epoch 16/500\n",
            "73/73 [==============================] - 87s 1s/step - loss: 0.0609 - accuracy: 0.8270 - val_loss: 0.1446 - val_accuracy: 0.6464\n",
            "Epoch 17/500\n",
            "73/73 [==============================] - 87s 1s/step - loss: 0.0544 - accuracy: 0.8459 - val_loss: 0.1769 - val_accuracy: 0.6041\n",
            "Epoch 18/500\n",
            "73/73 [==============================] - 85s 1s/step - loss: 0.0526 - accuracy: 0.8523 - val_loss: 0.1383 - val_accuracy: 0.6582\n",
            "Epoch 19/500\n",
            "73/73 [==============================] - 85s 1s/step - loss: 0.0515 - accuracy: 0.8437 - val_loss: 0.2299 - val_accuracy: 0.5601\n",
            "Epoch 20/500\n",
            "73/73 [==============================] - 84s 1s/step - loss: 0.0525 - accuracy: 0.8463 - val_loss: 0.3601 - val_accuracy: 0.3655\n",
            "Epoch 21/500\n",
            "73/73 [==============================] - 84s 1s/step - loss: 0.0475 - accuracy: 0.8562 - val_loss: 0.0844 - val_accuracy: 0.7834\n",
            "Epoch 22/500\n",
            "73/73 [==============================] - 84s 1s/step - loss: 0.0466 - accuracy: 0.8617 - val_loss: 0.1698 - val_accuracy: 0.6176\n",
            "Epoch 23/500\n",
            "73/73 [==============================] - 84s 1s/step - loss: 0.0455 - accuracy: 0.8716 - val_loss: 0.1207 - val_accuracy: 0.7208\n",
            "Epoch 24/500\n",
            "73/73 [==============================] - 84s 1s/step - loss: 0.0428 - accuracy: 0.8789 - val_loss: 0.1304 - val_accuracy: 0.6819\n",
            "Epoch 25/500\n",
            "73/73 [==============================] - 84s 1s/step - loss: 0.0428 - accuracy: 0.8781 - val_loss: 0.0989 - val_accuracy: 0.7733\n",
            "Epoch 26/500\n",
            "73/73 [==============================] - 84s 1s/step - loss: 0.0428 - accuracy: 0.8841 - val_loss: 0.1687 - val_accuracy: 0.5618\n",
            "Epoch 27/500\n",
            "73/73 [==============================] - 84s 1s/step - loss: 0.0387 - accuracy: 0.8927 - val_loss: 0.1741 - val_accuracy: 0.6311\n",
            "Epoch 28/500\n",
            "73/73 [==============================] - 84s 1s/step - loss: 0.0380 - accuracy: 0.8892 - val_loss: 0.1043 - val_accuracy: 0.7530\n",
            "Epoch 29/500\n",
            "73/73 [==============================] - 84s 1s/step - loss: 0.0388 - accuracy: 0.8905 - val_loss: 0.1390 - val_accuracy: 0.6684\n",
            "Epoch 30/500\n",
            "73/73 [==============================] - 84s 1s/step - loss: 0.0373 - accuracy: 0.8858 - val_loss: 0.3920 - val_accuracy: 0.4213\n",
            "Epoch 31/500\n",
            "73/73 [==============================] - 84s 1s/step - loss: 0.0325 - accuracy: 0.9128 - val_loss: 0.1466 - val_accuracy: 0.6430\n",
            "Epoch 32/500\n",
            "73/73 [==============================] - 84s 1s/step - loss: 0.0339 - accuracy: 0.9047 - val_loss: 0.1192 - val_accuracy: 0.7343\n",
            "Epoch 33/500\n",
            "73/73 [==============================] - 84s 1s/step - loss: 0.0344 - accuracy: 0.9017 - val_loss: 0.0983 - val_accuracy: 0.7225\n",
            "Epoch 34/500\n",
            "73/73 [==============================] - 84s 1s/step - loss: 0.0324 - accuracy: 0.9021 - val_loss: 0.1940 - val_accuracy: 0.6294\n",
            "Epoch 35/500\n",
            "73/73 [==============================] - 84s 1s/step - loss: 0.0358 - accuracy: 0.8965 - val_loss: 0.1259 - val_accuracy: 0.6954\n",
            "Epoch 36/500\n",
            "73/73 [==============================] - 85s 1s/step - loss: 0.0357 - accuracy: 0.8974 - val_loss: 0.0627 - val_accuracy: 0.8460\n",
            "Epoch 37/500\n",
            "73/73 [==============================] - 85s 1s/step - loss: 0.0291 - accuracy: 0.9158 - val_loss: 0.2741 - val_accuracy: 0.5364\n",
            "Epoch 38/500\n",
            "73/73 [==============================] - 85s 1s/step - loss: 0.0303 - accuracy: 0.9075 - val_loss: 0.2622 - val_accuracy: 0.5093\n",
            "Epoch 39/500\n",
            "73/73 [==============================] - 84s 1s/step - loss: 0.0304 - accuracy: 0.9214 - val_loss: 0.1286 - val_accuracy: 0.6785\n",
            "Epoch 40/500\n",
            "73/73 [==============================] - 85s 1s/step - loss: 0.0277 - accuracy: 0.9231 - val_loss: 0.1181 - val_accuracy: 0.7124\n",
            "Epoch 41/500\n",
            "73/73 [==============================] - 86s 1s/step - loss: 0.0287 - accuracy: 0.9167 - val_loss: 0.2812 - val_accuracy: 0.5296\n",
            "Epoch 42/500\n",
            "73/73 [==============================] - 86s 1s/step - loss: 0.0278 - accuracy: 0.9206 - val_loss: 0.1494 - val_accuracy: 0.6599\n",
            "Epoch 43/500\n",
            "73/73 [==============================] - 86s 1s/step - loss: 0.0296 - accuracy: 0.9180 - val_loss: 0.3458 - val_accuracy: 0.3993\n",
            "Epoch 44/500\n",
            "73/73 [==============================] - 86s 1s/step - loss: 0.0232 - accuracy: 0.9334 - val_loss: 0.1625 - val_accuracy: 0.6464\n",
            "Epoch 45/500\n",
            "73/73 [==============================] - 86s 1s/step - loss: 0.0242 - accuracy: 0.9317 - val_loss: 0.2562 - val_accuracy: 0.4839\n",
            "Epoch 46/500\n",
            "73/73 [==============================] - 86s 1s/step - loss: 0.0287 - accuracy: 0.9128 - val_loss: 0.2243 - val_accuracy: 0.6041\n",
            "Epoch 47/500\n",
            "73/73 [==============================] - 85s 1s/step - loss: 0.0241 - accuracy: 0.9330 - val_loss: 0.1522 - val_accuracy: 0.6751\n",
            "Epoch 48/500\n",
            "73/73 [==============================] - 84s 1s/step - loss: 0.0257 - accuracy: 0.9322 - val_loss: 0.1086 - val_accuracy: 0.7631\n",
            "Epoch 49/500\n",
            "73/73 [==============================] - 84s 1s/step - loss: 0.0257 - accuracy: 0.9244 - val_loss: 0.0984 - val_accuracy: 0.7817\n",
            "Epoch 50/500\n",
            "73/73 [==============================] - 84s 1s/step - loss: 0.0244 - accuracy: 0.9279 - val_loss: 0.1230 - val_accuracy: 0.7547\n",
            "Epoch 51/500\n",
            "73/73 [==============================] - 84s 1s/step - loss: 0.0226 - accuracy: 0.9403 - val_loss: 0.0403 - val_accuracy: 0.9052\n",
            "Epoch 52/500\n",
            "73/73 [==============================] - 84s 1s/step - loss: 0.0226 - accuracy: 0.9373 - val_loss: 0.0530 - val_accuracy: 0.8731\n",
            "Epoch 53/500\n",
            "73/73 [==============================] - 84s 1s/step - loss: 0.0212 - accuracy: 0.9446 - val_loss: 0.1459 - val_accuracy: 0.7327\n",
            "Epoch 54/500\n",
            "73/73 [==============================] - 84s 1s/step - loss: 0.0228 - accuracy: 0.9386 - val_loss: 0.2146 - val_accuracy: 0.5668\n",
            "Epoch 55/500\n",
            "62/73 [========================>.....] - ETA: 12s - loss: 0.0198 - accuracy: 0.9454"
          ]
        }
      ],
      "source": [
        "print(\"[INFO] training network...\")\n",
        "history = model.fit(\n",
        "    aug.flow(x_train, y_train, batch_size=BS),\n",
        "    validation_data=(x_test, y_test),\n",
        "    steps_per_epoch=len(x_train) // BS,\n",
        "    epochs=EPOCHS, verbose=1, \n",
        "    validation_freq=1,\n",
        "    callbacks = [earlystopping]\n",
        "    )"
      ]
    },
    {
      "cell_type": "code",
      "execution_count": null,
      "metadata": {
        "id": "Gg4pIgZBHSHI",
        "colab": {
          "base_uri": "https://localhost:8080/",
          "height": 235
        },
        "outputId": "da1ee5d2-fc3a-485b-c5e3-4509e51e5c42"
      },
      "outputs": [
        {
          "output_type": "error",
          "ename": "NameError",
          "evalue": "ignored",
          "traceback": [
            "\u001b[0;31m---------------------------------------------------------------------------\u001b[0m",
            "\u001b[0;31mNameError\u001b[0m                                 Traceback (most recent call last)",
            "\u001b[0;32m<ipython-input-21-a1287fba12f5>\u001b[0m in \u001b[0;36m<module>\u001b[0;34m\u001b[0m\n\u001b[0;32m----> 1\u001b[0;31m \u001b[0macc\u001b[0m \u001b[0;34m=\u001b[0m \u001b[0mhistory\u001b[0m\u001b[0;34m.\u001b[0m\u001b[0mhistory\u001b[0m\u001b[0;34m[\u001b[0m\u001b[0;34m'accuracy'\u001b[0m\u001b[0;34m]\u001b[0m\u001b[0;34m\u001b[0m\u001b[0;34m\u001b[0m\u001b[0m\n\u001b[0m\u001b[1;32m      2\u001b[0m \u001b[0mval_acc\u001b[0m \u001b[0;34m=\u001b[0m \u001b[0mhistory\u001b[0m\u001b[0;34m.\u001b[0m\u001b[0mhistory\u001b[0m\u001b[0;34m[\u001b[0m\u001b[0;34m'val_accuracy'\u001b[0m\u001b[0;34m]\u001b[0m\u001b[0;34m\u001b[0m\u001b[0;34m\u001b[0m\u001b[0m\n\u001b[1;32m      3\u001b[0m \u001b[0mloss\u001b[0m \u001b[0;34m=\u001b[0m \u001b[0mhistory\u001b[0m\u001b[0;34m.\u001b[0m\u001b[0mhistory\u001b[0m\u001b[0;34m[\u001b[0m\u001b[0;34m'loss'\u001b[0m\u001b[0;34m]\u001b[0m\u001b[0;34m\u001b[0m\u001b[0;34m\u001b[0m\u001b[0m\n\u001b[1;32m      4\u001b[0m \u001b[0mval_loss\u001b[0m \u001b[0;34m=\u001b[0m \u001b[0mhistory\u001b[0m\u001b[0;34m.\u001b[0m\u001b[0mhistory\u001b[0m\u001b[0;34m[\u001b[0m\u001b[0;34m'val_loss'\u001b[0m\u001b[0;34m]\u001b[0m\u001b[0;34m\u001b[0m\u001b[0;34m\u001b[0m\u001b[0m\n\u001b[1;32m      5\u001b[0m \u001b[0mepochs\u001b[0m \u001b[0;34m=\u001b[0m \u001b[0mrange\u001b[0m\u001b[0;34m(\u001b[0m\u001b[0;36m1\u001b[0m\u001b[0;34m,\u001b[0m \u001b[0mlen\u001b[0m\u001b[0;34m(\u001b[0m\u001b[0macc\u001b[0m\u001b[0;34m)\u001b[0m \u001b[0;34m+\u001b[0m \u001b[0;36m1\u001b[0m\u001b[0;34m)\u001b[0m\u001b[0;34m\u001b[0m\u001b[0;34m\u001b[0m\u001b[0m\n",
            "\u001b[0;31mNameError\u001b[0m: name 'history' is not defined"
          ]
        }
      ],
      "source": [
        "acc = history.history['accuracy']\n",
        "val_acc = history.history['val_accuracy']\n",
        "loss = history.history['loss']\n",
        "val_loss = history.history['val_loss']\n",
        "epochs = range(1, len(acc) + 1)\n",
        "#Train and validation accuracy\n",
        "plt.plot(epochs, acc, 'b', label='Training accurarcy')\n",
        "plt.plot(epochs, val_acc, 'r', label='Validation accurarcy')\n",
        "plt.title('Training and Validation accurarcy')\n",
        "plt.legend()\n",
        "\n",
        "plt.figure()\n",
        "#Train and validation loss\n",
        "plt.plot(epochs, loss, 'b', label='Training loss')\n",
        "plt.plot(epochs, val_loss, 'r', label='Validation loss')\n",
        "plt.title('Training and Validation loss')\n",
        "plt.legend()\n",
        "plt.show()"
      ]
    },
    {
      "cell_type": "markdown",
      "metadata": {
        "id": "FK_EBekhKbWK"
      },
      "source": []
    },
    {
      "cell_type": "code",
      "source": [
        "x_test.shape"
      ],
      "metadata": {
        "colab": {
          "base_uri": "https://localhost:8080/"
        },
        "id": "FIMazmdNQOZ_",
        "outputId": "e2d4677a-8ec5-4b74-bb43-476adcf90aaf"
      },
      "execution_count": null,
      "outputs": [
        {
          "output_type": "execute_result",
          "data": {
            "text/plain": [
              "(591, 256, 256, 3)"
            ]
          },
          "metadata": {},
          "execution_count": 25
        }
      ]
    },
    {
      "cell_type": "code",
      "execution_count": null,
      "metadata": {
        "colab": {
          "base_uri": "https://localhost:8080/"
        },
        "id": "BcyhX82HMcED",
        "outputId": "0895e24e-948b-4da2-c815-e0b86cefcfa7"
      },
      "outputs": [
        {
          "output_type": "execute_result",
          "data": {
            "text/plain": [
              "(591, 15)"
            ]
          },
          "metadata": {},
          "execution_count": 22
        }
      ],
      "source": [
        "y_test.shape"
      ]
    },
    {
      "cell_type": "code",
      "execution_count": null,
      "metadata": {
        "id": "0ryQUhmhHSAF",
        "colab": {
          "base_uri": "https://localhost:8080/",
          "height": 363
        },
        "outputId": "6dc5a028-b1c4-4f81-df8c-8ed7d872843e"
      },
      "outputs": [
        {
          "output_type": "stream",
          "name": "stdout",
          "text": [
            "[INFO] Calculating model accuracy\n"
          ]
        },
        {
          "output_type": "error",
          "ename": "RuntimeError",
          "evalue": "ignored",
          "traceback": [
            "\u001b[0;31m---------------------------------------------------------------------------\u001b[0m",
            "\u001b[0;31mRuntimeError\u001b[0m                              Traceback (most recent call last)",
            "\u001b[0;32m<ipython-input-23-5cab9ccba9c5>\u001b[0m in \u001b[0;36m<module>\u001b[0;34m\u001b[0m\n\u001b[1;32m      1\u001b[0m \u001b[0mprint\u001b[0m\u001b[0;34m(\u001b[0m\u001b[0;34m\"[INFO] Calculating model accuracy\"\u001b[0m\u001b[0;34m)\u001b[0m\u001b[0;34m\u001b[0m\u001b[0;34m\u001b[0m\u001b[0m\n\u001b[0;32m----> 2\u001b[0;31m \u001b[0mscores\u001b[0m \u001b[0;34m=\u001b[0m \u001b[0mmodel\u001b[0m\u001b[0;34m.\u001b[0m\u001b[0mevaluate\u001b[0m\u001b[0;34m(\u001b[0m\u001b[0mx_test\u001b[0m\u001b[0;34m,\u001b[0m \u001b[0my_test\u001b[0m\u001b[0;34m)\u001b[0m\u001b[0;34m\u001b[0m\u001b[0;34m\u001b[0m\u001b[0m\n\u001b[0m\u001b[1;32m      3\u001b[0m \u001b[0mprint\u001b[0m\u001b[0;34m(\u001b[0m\u001b[0;34mf\"Test Accuracy: {scores[1]*100}\"\u001b[0m\u001b[0;34m)\u001b[0m\u001b[0;34m\u001b[0m\u001b[0;34m\u001b[0m\u001b[0m\n",
            "\u001b[0;32m/usr/local/lib/python3.8/dist-packages/keras/utils/traceback_utils.py\u001b[0m in \u001b[0;36merror_handler\u001b[0;34m(*args, **kwargs)\u001b[0m\n\u001b[1;32m     65\u001b[0m     \u001b[0;32mexcept\u001b[0m \u001b[0mException\u001b[0m \u001b[0;32mas\u001b[0m \u001b[0me\u001b[0m\u001b[0;34m:\u001b[0m  \u001b[0;31m# pylint: disable=broad-except\u001b[0m\u001b[0;34m\u001b[0m\u001b[0;34m\u001b[0m\u001b[0m\n\u001b[1;32m     66\u001b[0m       \u001b[0mfiltered_tb\u001b[0m \u001b[0;34m=\u001b[0m \u001b[0m_process_traceback_frames\u001b[0m\u001b[0;34m(\u001b[0m\u001b[0me\u001b[0m\u001b[0;34m.\u001b[0m\u001b[0m__traceback__\u001b[0m\u001b[0;34m)\u001b[0m\u001b[0;34m\u001b[0m\u001b[0;34m\u001b[0m\u001b[0m\n\u001b[0;32m---> 67\u001b[0;31m       \u001b[0;32mraise\u001b[0m \u001b[0me\u001b[0m\u001b[0;34m.\u001b[0m\u001b[0mwith_traceback\u001b[0m\u001b[0;34m(\u001b[0m\u001b[0mfiltered_tb\u001b[0m\u001b[0;34m)\u001b[0m \u001b[0;32mfrom\u001b[0m \u001b[0;32mNone\u001b[0m\u001b[0;34m\u001b[0m\u001b[0;34m\u001b[0m\u001b[0m\n\u001b[0m\u001b[1;32m     68\u001b[0m     \u001b[0;32mfinally\u001b[0m\u001b[0;34m:\u001b[0m\u001b[0;34m\u001b[0m\u001b[0;34m\u001b[0m\u001b[0m\n\u001b[1;32m     69\u001b[0m       \u001b[0;32mdel\u001b[0m \u001b[0mfiltered_tb\u001b[0m\u001b[0;34m\u001b[0m\u001b[0;34m\u001b[0m\u001b[0m\n",
            "\u001b[0;32m/usr/local/lib/python3.8/dist-packages/keras/engine/training.py\u001b[0m in \u001b[0;36m_assert_compile_was_called\u001b[0;34m(self)\u001b[0m\n\u001b[1;32m   3158\u001b[0m     \u001b[0;31m# (i.e. whether the model is built and its inputs/outputs are set).\u001b[0m\u001b[0;34m\u001b[0m\u001b[0;34m\u001b[0m\u001b[0;34m\u001b[0m\u001b[0m\n\u001b[1;32m   3159\u001b[0m     \u001b[0;32mif\u001b[0m \u001b[0;32mnot\u001b[0m \u001b[0mself\u001b[0m\u001b[0;34m.\u001b[0m\u001b[0m_is_compiled\u001b[0m\u001b[0;34m:\u001b[0m\u001b[0;34m\u001b[0m\u001b[0;34m\u001b[0m\u001b[0m\n\u001b[0;32m-> 3160\u001b[0;31m       raise RuntimeError('You must compile your model before '\n\u001b[0m\u001b[1;32m   3161\u001b[0m                          \u001b[0;34m'training/testing. '\u001b[0m\u001b[0;34m\u001b[0m\u001b[0;34m\u001b[0m\u001b[0m\n\u001b[1;32m   3162\u001b[0m                          'Use `model.compile(optimizer, loss)`.')\n",
            "\u001b[0;31mRuntimeError\u001b[0m: You must compile your model before training/testing. Use `model.compile(optimizer, loss)`."
          ]
        }
      ],
      "source": [
        "print(\"[INFO] Calculating model accuracy\")\n",
        "scores = model.evaluate(x_test, y_test)\n",
        "print(f\"Test Accuracy: {scores[1]*100}\")"
      ]
    },
    {
      "cell_type": "code",
      "execution_count": null,
      "metadata": {
        "colab": {
          "base_uri": "https://localhost:8080/"
        },
        "id": "HrqPDqNiMcEE",
        "outputId": "e2b99fb8-6d76-45a8-c4cb-af0bbe32e659"
      },
      "outputs": [
        {
          "output_type": "stream",
          "name": "stdout",
          "text": [
            "Create portable serialized representations of Python objects.\n",
            "\n",
            "See module copyreg for a mechanism for registering custom picklers.\n",
            "See module pickletools source for extensive comments.\n",
            "\n",
            "Classes:\n",
            "\n",
            "    Pickler\n",
            "    Unpickler\n",
            "\n",
            "Functions:\n",
            "\n",
            "    dump(object, file)\n",
            "    dumps(object) -> string\n",
            "    load(file) -> object\n",
            "    loads(string) -> object\n",
            "\n",
            "Misc variables:\n",
            "\n",
            "    __version__\n",
            "    format_version\n",
            "    compatible_formats\n",
            "\n",
            "\n"
          ]
        }
      ],
      "source": [
        "import pickle\n",
        "print(pickle.__doc__)"
      ]
    },
    {
      "cell_type": "code",
      "execution_count": null,
      "metadata": {
        "id": "lS_i01zQMcEF"
      },
      "outputs": [],
      "source": [
        "# save the model to disk\n",
        "print(\"[INFO] Saving model...\")\n",
        "model.save(\"DL_Project_1_Leaf_Disease_Detection_Model_500_Epochs.h5\")\n",
        "print(\"Saved model to disk\")\n"
      ]
    },
    {
      "cell_type": "markdown",
      "metadata": {
        "id": "TZsfaBaHKccL"
      },
      "source": []
    },
    {
      "cell_type": "code",
      "execution_count": null,
      "metadata": {
        "id": "l72WJWhJHRSi"
      },
      "outputs": [],
      "source": [
        "from tensorflow.keras.models import load_model\n",
        "# load model\n",
        "model = load_model('../content/drive/MyDrive/DL_Project_1_Leaf_Disease_Detection_Model_250_Epochs.h5')"
      ]
    },
    {
      "cell_type": "code",
      "execution_count": null,
      "metadata": {
        "id": "4Spt0kv8Kc-x",
        "colab": {
          "base_uri": "https://localhost:8080/"
        },
        "outputId": "8da81fd4-49a7-4fce-e7b3-fc4b7d3306cf"
      },
      "outputs": [
        {
          "output_type": "execute_result",
          "data": {
            "text/plain": [
              "True"
            ]
          },
          "metadata": {},
          "execution_count": 36
        }
      ],
      "source": [
        "os.path.exists(\"../content/drive/MyDrive/earlyblight.jpg\")"
      ]
    },
    {
      "cell_type": "code",
      "execution_count": null,
      "metadata": {
        "id": "k5A1WN-WIlPH"
      },
      "outputs": [],
      "source": [
        "image_dir= \"../content/drive/MyDrive/earlyblight.jpg\"#\"a.jpg\"\n",
        "im1 = load_img(image_dir)\n",
        "\n",
        "im=convert_image_to_array(image_dir)\n",
        "np_image_li = np.array(im, dtype=np.float16) / 225.0\n",
        "npp_image = np.expand_dims(np_image_li, axis=0)\n"
      ]
    },
    {
      "cell_type": "markdown",
      "metadata": {
        "id": "3gfXUXCkKdvy"
      },
      "source": []
    },
    {
      "cell_type": "code",
      "execution_count": null,
      "metadata": {
        "id": "APn_xOStImNG",
        "colab": {
          "base_uri": "https://localhost:8080/"
        },
        "outputId": "184e095f-f918-4def-c48f-03fbe4e57745"
      },
      "outputs": [
        {
          "output_type": "stream",
          "name": "stdout",
          "text": [
            "19/19 [==============================] - 8s 245ms/step\n",
            "[[4.3600819e-13 9.9992895e-01 7.6689286e-09 ... 1.7219134e-10\n",
            "  1.8020658e-07 1.5966592e-07]\n",
            " [2.2212479e-14 9.3537123e-14 4.6523344e-10 ... 4.5127135e-11\n",
            "  1.1219270e-10 4.1227224e-10]\n",
            " [6.0603422e-10 2.9954444e-06 5.5504130e-09 ... 1.8251584e-09\n",
            "  2.0056785e-07 7.2433591e-01]\n",
            " ...\n",
            " [1.5331761e-15 9.8638207e-19 1.6261784e-15 ... 1.0000000e+00\n",
            "  1.0779128e-13 2.1470582e-16]\n",
            " [2.0723630e-06 4.2869981e-08 7.4231081e-12 ... 1.5194669e-07\n",
            "  1.9950980e-10 1.1569148e-12]\n",
            " [5.5481192e-15 1.9017889e-16 7.2363926e-10 ... 5.6560735e-13\n",
            "  1.5675964e-14 1.9609005e-13]]\n"
          ]
        }
      ],
      "source": [
        "result=model.predict(x_test)\n",
        "print(result)"
      ]
    },
    {
      "cell_type": "code",
      "source": [
        "x_test.shape"
      ],
      "metadata": {
        "colab": {
          "base_uri": "https://localhost:8080/"
        },
        "id": "ekAQ2YXwUJUD",
        "outputId": "2a1f668d-cdc3-4f24-e56b-3c58b9e42307"
      },
      "execution_count": null,
      "outputs": [
        {
          "output_type": "execute_result",
          "data": {
            "text/plain": [
              "(591, 256, 256, 3)"
            ]
          },
          "metadata": {},
          "execution_count": 52
        }
      ]
    },
    {
      "cell_type": "code",
      "execution_count": null,
      "metadata": {
        "id": "8iTMnYQKImAH",
        "colab": {
          "base_uri": "https://localhost:8080/"
        },
        "outputId": "ada50b61-8a48-45c9-e081-11de4cc0ec0b"
      },
      "outputs": [
        {
          "output_type": "stream",
          "name": "stdout",
          "text": [
            "probability:1.0\n",
            "Potato_Early_blight\n"
          ]
        }
      ],
      "source": [
        "itemindex = np.where(result==np.max(result))\n",
        "print(\"probability:\"+str(np.max(result))+\"\\n\"+label_binarizer.classes_[itemindex[1][0]])"
      ]
    },
    {
      "cell_type": "code",
      "execution_count": null,
      "metadata": {
        "colab": {
          "base_uri": "https://localhost:8080/"
        },
        "id": "y-CkiX_MMcEH",
        "outputId": "7201f436-d946-49d4-e6f7-eb0efca77a25"
      },
      "outputs": [
        {
          "output_type": "execute_result",
          "data": {
            "text/plain": [
              "(591, 15)"
            ]
          },
          "metadata": {},
          "execution_count": 54
        }
      ],
      "source": [
        "result.shape"
      ]
    },
    {
      "cell_type": "code",
      "source": [
        "result"
      ],
      "metadata": {
        "colab": {
          "base_uri": "https://localhost:8080/"
        },
        "id": "J-KM_3XzT9cm",
        "outputId": "6177b4ca-9d39-4912-e735-ca5dfdb55053"
      },
      "execution_count": null,
      "outputs": [
        {
          "output_type": "execute_result",
          "data": {
            "text/plain": [
              "array([[4.3600819e-13, 9.9992895e-01, 7.6689286e-09, ..., 1.7219134e-10,\n",
              "        1.8020658e-07, 1.5966592e-07],\n",
              "       [2.2212479e-14, 9.3537123e-14, 4.6523344e-10, ..., 4.5127135e-11,\n",
              "        1.1219270e-10, 4.1227224e-10],\n",
              "       [6.0603422e-10, 2.9954444e-06, 5.5504130e-09, ..., 1.8251584e-09,\n",
              "        2.0056785e-07, 7.2433591e-01],\n",
              "       ...,\n",
              "       [1.5331761e-15, 9.8638207e-19, 1.6261784e-15, ..., 1.0000000e+00,\n",
              "        1.0779128e-13, 2.1470582e-16],\n",
              "       [2.0723630e-06, 4.2869981e-08, 7.4231081e-12, ..., 1.5194669e-07,\n",
              "        1.9950980e-10, 1.1569148e-12],\n",
              "       [5.5481192e-15, 1.9017889e-16, 7.2363926e-10, ..., 5.6560735e-13,\n",
              "        1.5675964e-14, 1.9609005e-13]], dtype=float32)"
            ]
          },
          "metadata": {},
          "execution_count": 55
        }
      ]
    },
    {
      "cell_type": "code",
      "execution_count": null,
      "metadata": {
        "colab": {
          "base_uri": "https://localhost:8080/"
        },
        "id": "VNwJi2mOMcEH",
        "outputId": "e48a966d-ee2f-4e92-9116-f0115b4ae6f1"
      },
      "outputs": [
        {
          "output_type": "execute_result",
          "data": {
            "text/plain": [
              "(591, 15)"
            ]
          },
          "metadata": {},
          "execution_count": 56
        }
      ],
      "source": [
        "y_test.shape"
      ]
    },
    {
      "cell_type": "code",
      "execution_count": null,
      "metadata": {
        "id": "UH_ofU1rMcEI"
      },
      "outputs": [],
      "source": [
        "import tensorflow as tf"
      ]
    },
    {
      "cell_type": "code",
      "source": [
        "labels = tf.argmax(y_test,1)"
      ],
      "metadata": {
        "id": "BRlm-UUGTXEy"
      },
      "execution_count": null,
      "outputs": []
    },
    {
      "cell_type": "code",
      "source": [],
      "metadata": {
        "id": "86Acp-EOT5U2"
      },
      "execution_count": null,
      "outputs": []
    },
    {
      "cell_type": "code",
      "source": [
        "labels.shape"
      ],
      "metadata": {
        "colab": {
          "base_uri": "https://localhost:8080/"
        },
        "id": "rzbvUt1WTitT",
        "outputId": "6cc25c65-bc70-4c04-f41c-8c79689bf462"
      },
      "execution_count": null,
      "outputs": [
        {
          "output_type": "execute_result",
          "data": {
            "text/plain": [
              "TensorShape([591])"
            ]
          },
          "metadata": {},
          "execution_count": 59
        }
      ]
    },
    {
      "cell_type": "code",
      "source": [
        "predictions = tf.argmax(result,1)"
      ],
      "metadata": {
        "id": "IP2TZaHqTlT8"
      },
      "execution_count": null,
      "outputs": []
    },
    {
      "cell_type": "code",
      "source": [
        "predictions.shape"
      ],
      "metadata": {
        "colab": {
          "base_uri": "https://localhost:8080/"
        },
        "id": "cimoGiwiTrZM",
        "outputId": "41d10d9c-3a4b-4e4c-cb6f-d8c10c308c94"
      },
      "execution_count": null,
      "outputs": [
        {
          "output_type": "execute_result",
          "data": {
            "text/plain": [
              "TensorShape([591])"
            ]
          },
          "metadata": {},
          "execution_count": 63
        }
      ]
    },
    {
      "cell_type": "code",
      "execution_count": null,
      "metadata": {
        "id": "fcXfKBthMcEI"
      },
      "outputs": [],
      "source": [
        "cm = tf.math.confusion_matrix(labels = tf.argmax(y_test,1), predictions = tf.argmax(result,1))"
      ]
    },
    {
      "cell_type": "code",
      "execution_count": null,
      "metadata": {
        "id": "zH08-V84McEI"
      },
      "outputs": [],
      "source": [
        "cm = cm.numpy()"
      ]
    },
    {
      "cell_type": "code",
      "source": [
        "cm"
      ],
      "metadata": {
        "colab": {
          "base_uri": "https://localhost:8080/"
        },
        "id": "KW4j-qg1WarU",
        "outputId": "a45bc7c9-92dc-4ca6-b1d3-3d40675d358a"
      },
      "execution_count": null,
      "outputs": [
        {
          "output_type": "execute_result",
          "data": {
            "text/plain": [
              "array([[44,  0,  0,  0,  0,  0,  1,  0,  0,  1,  0,  0,  0,  0,  0],\n",
              "       [ 0, 37,  0,  0,  0,  0,  0,  1,  0,  0,  0,  0,  0,  0,  0],\n",
              "       [ 0,  0, 31,  0,  0,  0,  0,  0,  0,  0,  0,  0,  0,  0,  0],\n",
              "       [ 1,  0,  2, 28,  0,  0,  0,  3,  0,  0,  1,  0,  0,  0,  1],\n",
              "       [ 0,  0,  0,  0, 27,  0,  0,  0,  0,  0,  0,  0,  0,  0,  0],\n",
              "       [ 0,  0,  0,  0,  0, 44,  0,  0,  1,  0,  0,  0,  2,  0,  0],\n",
              "       [ 1,  1,  0,  0,  0,  0, 31,  3,  0,  0,  1,  0,  0,  0,  0],\n",
              "       [ 0,  0,  1,  0,  0,  2,  4, 33,  0,  0,  1,  0,  0,  0,  4],\n",
              "       [ 0,  0,  0,  0,  0,  0,  0,  1, 52,  0,  0,  0,  1,  0,  0],\n",
              "       [ 1,  1,  0,  0,  0,  0,  1,  1,  9, 23,  1,  0,  1,  0,  0],\n",
              "       [ 0,  0,  0,  0,  0,  0,  0,  0,  4,  0, 36,  0,  0,  0,  0],\n",
              "       [ 0,  1,  0,  0,  1,  0,  3,  0,  4,  0, 16, 17,  0,  1,  8],\n",
              "       [ 0,  0,  0,  0,  0,  0,  0,  0,  0,  0,  0,  0, 32,  0,  0],\n",
              "       [ 0,  0,  0,  0,  0,  0,  0,  0,  0,  0,  0,  0,  0, 39,  0],\n",
              "       [ 0,  0,  0,  0,  0,  0,  0,  0,  0,  0,  0,  0,  0,  0, 30]],\n",
              "      dtype=int32)"
            ]
          },
          "metadata": {},
          "execution_count": 94
        }
      ]
    },
    {
      "cell_type": "markdown",
      "metadata": {
        "id": "PgkZxzYPKedC"
      },
      "source": []
    },
    {
      "cell_type": "markdown",
      "metadata": {
        "id": "Js-vOozsKf15"
      },
      "source": []
    },
    {
      "cell_type": "code",
      "execution_count": null,
      "metadata": {
        "id": "QrC0BGcSMcEJ"
      },
      "outputs": [],
      "source": [
        "classes = label_binarizer.classes_"
      ]
    },
    {
      "cell_type": "code",
      "execution_count": null,
      "metadata": {
        "colab": {
          "base_uri": "https://localhost:8080/"
        },
        "id": "WM0PH15yMcEJ",
        "outputId": "7abbc3bc-2dd5-4030-c45a-6df915cd3994"
      },
      "outputs": [
        {
          "output_type": "execute_result",
          "data": {
            "text/plain": [
              "array(['Pepper_bell_Bacterial_spot', 'Pepper_bell_healthy',\n",
              "       'Potato_Early_blight', 'Potato_Late_blight', 'Potato_healthy',\n",
              "       'Tomato_Bacterial_spot', 'Tomato_Early_blight',\n",
              "       'Tomato_Late_blight', 'Tomato_Leaf_Mold',\n",
              "       'Tomato_Septoria_leaf_spot',\n",
              "       'Tomato_Spider_mites_Two_spotted_spider_mite',\n",
              "       'Tomato_Target_Spot', 'Tomato_Tomato_YellowLeaf_Curl_Virus',\n",
              "       'Tomato_Tomato_mosaic_virus', 'Tomato_healthy'], dtype='<U43')"
            ]
          },
          "metadata": {},
          "execution_count": 67
        }
      ],
      "source": [
        "classes"
      ]
    },
    {
      "cell_type": "code",
      "execution_count": null,
      "metadata": {
        "colab": {
          "base_uri": "https://localhost:8080/"
        },
        "id": "jBwtfnFAMcEJ",
        "outputId": "d9376218-7078-4bd8-cafb-da1358104523"
      },
      "outputs": [
        {
          "output_type": "stream",
          "name": "stdout",
          "text": [
            "Looking in indexes: https://pypi.org/simple, https://us-python.pkg.dev/colab-wheels/public/simple/\n",
            "Requirement already satisfied: pandas in /usr/local/lib/python3.8/dist-packages (1.3.5)\n",
            "Requirement already satisfied: pytz>=2017.3 in /usr/local/lib/python3.8/dist-packages (from pandas) (2022.7)\n",
            "Requirement already satisfied: python-dateutil>=2.7.3 in /usr/local/lib/python3.8/dist-packages (from pandas) (2.8.2)\n",
            "Requirement already satisfied: numpy>=1.17.3 in /usr/local/lib/python3.8/dist-packages (from pandas) (1.21.6)\n",
            "Requirement already satisfied: six>=1.5 in /usr/local/lib/python3.8/dist-packages (from python-dateutil>=2.7.3->pandas) (1.15.0)\n"
          ]
        }
      ],
      "source": [
        "!pip install pandas"
      ]
    },
    {
      "cell_type": "code",
      "execution_count": null,
      "metadata": {
        "id": "C1BtcjDeMcEJ"
      },
      "outputs": [],
      "source": [
        "import pandas as pd"
      ]
    },
    {
      "cell_type": "code",
      "source": [
        "cm"
      ],
      "metadata": {
        "colab": {
          "base_uri": "https://localhost:8080/"
        },
        "id": "YRDJe7ThV8Ty",
        "outputId": "849e065d-5d2a-434a-aadf-1a81b4a8661b"
      },
      "execution_count": null,
      "outputs": [
        {
          "output_type": "execute_result",
          "data": {
            "text/plain": [
              "<tf.Tensor: shape=(15, 15), dtype=int32, numpy=\n",
              "array([[44,  0,  0,  0,  0,  0,  1,  0,  0,  1,  0,  0,  0,  0,  0],\n",
              "       [ 0, 37,  0,  0,  0,  0,  0,  1,  0,  0,  0,  0,  0,  0,  0],\n",
              "       [ 0,  0, 31,  0,  0,  0,  0,  0,  0,  0,  0,  0,  0,  0,  0],\n",
              "       [ 1,  0,  2, 28,  0,  0,  0,  3,  0,  0,  1,  0,  0,  0,  1],\n",
              "       [ 0,  0,  0,  0, 27,  0,  0,  0,  0,  0,  0,  0,  0,  0,  0],\n",
              "       [ 0,  0,  0,  0,  0, 44,  0,  0,  1,  0,  0,  0,  2,  0,  0],\n",
              "       [ 1,  1,  0,  0,  0,  0, 31,  3,  0,  0,  1,  0,  0,  0,  0],\n",
              "       [ 0,  0,  1,  0,  0,  2,  4, 33,  0,  0,  1,  0,  0,  0,  4],\n",
              "       [ 0,  0,  0,  0,  0,  0,  0,  1, 52,  0,  0,  0,  1,  0,  0],\n",
              "       [ 1,  1,  0,  0,  0,  0,  1,  1,  9, 23,  1,  0,  1,  0,  0],\n",
              "       [ 0,  0,  0,  0,  0,  0,  0,  0,  4,  0, 36,  0,  0,  0,  0],\n",
              "       [ 0,  1,  0,  0,  1,  0,  3,  0,  4,  0, 16, 17,  0,  1,  8],\n",
              "       [ 0,  0,  0,  0,  0,  0,  0,  0,  0,  0,  0,  0, 32,  0,  0],\n",
              "       [ 0,  0,  0,  0,  0,  0,  0,  0,  0,  0,  0,  0,  0, 39,  0],\n",
              "       [ 0,  0,  0,  0,  0,  0,  0,  0,  0,  0,  0,  0,  0,  0, 30]],\n",
              "      dtype=int32)>"
            ]
          },
          "metadata": {},
          "execution_count": 92
        }
      ]
    },
    {
      "cell_type": "code",
      "source": [],
      "metadata": {
        "id": "pGMetA0dV-ax"
      },
      "execution_count": null,
      "outputs": []
    },
    {
      "cell_type": "code",
      "execution_count": null,
      "metadata": {
        "id": "XXgYpzz5McEJ"
      },
      "outputs": [],
      "source": [
        "df_cm = pd.DataFrame(cm, classes, classes)"
      ]
    },
    {
      "cell_type": "code",
      "execution_count": null,
      "metadata": {
        "colab": {
          "base_uri": "https://localhost:8080/",
          "height": 584
        },
        "id": "4-sOmgabMcEK",
        "outputId": "3047d4e8-eeee-425c-907b-df2b214f7022"
      },
      "outputs": [
        {
          "output_type": "execute_result",
          "data": {
            "text/plain": [
              "                                             Pepper_bell_Bacterial_spot  \\\n",
              "Pepper_bell_Bacterial_spot                                           44   \n",
              "Pepper_bell_healthy                                                   0   \n",
              "Potato_Early_blight                                                   0   \n",
              "Potato_Late_blight                                                    1   \n",
              "Potato_healthy                                                        0   \n",
              "Tomato_Bacterial_spot                                                 0   \n",
              "Tomato_Early_blight                                                   1   \n",
              "Tomato_Late_blight                                                    0   \n",
              "Tomato_Leaf_Mold                                                      0   \n",
              "Tomato_Septoria_leaf_spot                                             1   \n",
              "Tomato_Spider_mites_Two_spotted_spider_mite                           0   \n",
              "Tomato_Target_Spot                                                    0   \n",
              "Tomato_Tomato_YellowLeaf_Curl_Virus                                   0   \n",
              "Tomato_Tomato_mosaic_virus                                            0   \n",
              "Tomato_healthy                                                        0   \n",
              "\n",
              "                                             Pepper_bell_healthy  \\\n",
              "Pepper_bell_Bacterial_spot                                     0   \n",
              "Pepper_bell_healthy                                           37   \n",
              "Potato_Early_blight                                            0   \n",
              "Potato_Late_blight                                             0   \n",
              "Potato_healthy                                                 0   \n",
              "Tomato_Bacterial_spot                                          0   \n",
              "Tomato_Early_blight                                            1   \n",
              "Tomato_Late_blight                                             0   \n",
              "Tomato_Leaf_Mold                                               0   \n",
              "Tomato_Septoria_leaf_spot                                      1   \n",
              "Tomato_Spider_mites_Two_spotted_spider_mite                    0   \n",
              "Tomato_Target_Spot                                             1   \n",
              "Tomato_Tomato_YellowLeaf_Curl_Virus                            0   \n",
              "Tomato_Tomato_mosaic_virus                                     0   \n",
              "Tomato_healthy                                                 0   \n",
              "\n",
              "                                             Potato_Early_blight  \\\n",
              "Pepper_bell_Bacterial_spot                                     0   \n",
              "Pepper_bell_healthy                                            0   \n",
              "Potato_Early_blight                                           31   \n",
              "Potato_Late_blight                                             2   \n",
              "Potato_healthy                                                 0   \n",
              "Tomato_Bacterial_spot                                          0   \n",
              "Tomato_Early_blight                                            0   \n",
              "Tomato_Late_blight                                             1   \n",
              "Tomato_Leaf_Mold                                               0   \n",
              "Tomato_Septoria_leaf_spot                                      0   \n",
              "Tomato_Spider_mites_Two_spotted_spider_mite                    0   \n",
              "Tomato_Target_Spot                                             0   \n",
              "Tomato_Tomato_YellowLeaf_Curl_Virus                            0   \n",
              "Tomato_Tomato_mosaic_virus                                     0   \n",
              "Tomato_healthy                                                 0   \n",
              "\n",
              "                                             Potato_Late_blight  \\\n",
              "Pepper_bell_Bacterial_spot                                    0   \n",
              "Pepper_bell_healthy                                           0   \n",
              "Potato_Early_blight                                           0   \n",
              "Potato_Late_blight                                           28   \n",
              "Potato_healthy                                                0   \n",
              "Tomato_Bacterial_spot                                         0   \n",
              "Tomato_Early_blight                                           0   \n",
              "Tomato_Late_blight                                            0   \n",
              "Tomato_Leaf_Mold                                              0   \n",
              "Tomato_Septoria_leaf_spot                                     0   \n",
              "Tomato_Spider_mites_Two_spotted_spider_mite                   0   \n",
              "Tomato_Target_Spot                                            0   \n",
              "Tomato_Tomato_YellowLeaf_Curl_Virus                           0   \n",
              "Tomato_Tomato_mosaic_virus                                    0   \n",
              "Tomato_healthy                                                0   \n",
              "\n",
              "                                             Potato_healthy  \\\n",
              "Pepper_bell_Bacterial_spot                                0   \n",
              "Pepper_bell_healthy                                       0   \n",
              "Potato_Early_blight                                       0   \n",
              "Potato_Late_blight                                        0   \n",
              "Potato_healthy                                           27   \n",
              "Tomato_Bacterial_spot                                     0   \n",
              "Tomato_Early_blight                                       0   \n",
              "Tomato_Late_blight                                        0   \n",
              "Tomato_Leaf_Mold                                          0   \n",
              "Tomato_Septoria_leaf_spot                                 0   \n",
              "Tomato_Spider_mites_Two_spotted_spider_mite               0   \n",
              "Tomato_Target_Spot                                        1   \n",
              "Tomato_Tomato_YellowLeaf_Curl_Virus                       0   \n",
              "Tomato_Tomato_mosaic_virus                                0   \n",
              "Tomato_healthy                                            0   \n",
              "\n",
              "                                             Tomato_Bacterial_spot  \\\n",
              "Pepper_bell_Bacterial_spot                                       0   \n",
              "Pepper_bell_healthy                                              0   \n",
              "Potato_Early_blight                                              0   \n",
              "Potato_Late_blight                                               0   \n",
              "Potato_healthy                                                   0   \n",
              "Tomato_Bacterial_spot                                           44   \n",
              "Tomato_Early_blight                                              0   \n",
              "Tomato_Late_blight                                               2   \n",
              "Tomato_Leaf_Mold                                                 0   \n",
              "Tomato_Septoria_leaf_spot                                        0   \n",
              "Tomato_Spider_mites_Two_spotted_spider_mite                      0   \n",
              "Tomato_Target_Spot                                               0   \n",
              "Tomato_Tomato_YellowLeaf_Curl_Virus                              0   \n",
              "Tomato_Tomato_mosaic_virus                                       0   \n",
              "Tomato_healthy                                                   0   \n",
              "\n",
              "                                             Tomato_Early_blight  \\\n",
              "Pepper_bell_Bacterial_spot                                     1   \n",
              "Pepper_bell_healthy                                            0   \n",
              "Potato_Early_blight                                            0   \n",
              "Potato_Late_blight                                             0   \n",
              "Potato_healthy                                                 0   \n",
              "Tomato_Bacterial_spot                                          0   \n",
              "Tomato_Early_blight                                           31   \n",
              "Tomato_Late_blight                                             4   \n",
              "Tomato_Leaf_Mold                                               0   \n",
              "Tomato_Septoria_leaf_spot                                      1   \n",
              "Tomato_Spider_mites_Two_spotted_spider_mite                    0   \n",
              "Tomato_Target_Spot                                             3   \n",
              "Tomato_Tomato_YellowLeaf_Curl_Virus                            0   \n",
              "Tomato_Tomato_mosaic_virus                                     0   \n",
              "Tomato_healthy                                                 0   \n",
              "\n",
              "                                             Tomato_Late_blight  \\\n",
              "Pepper_bell_Bacterial_spot                                    0   \n",
              "Pepper_bell_healthy                                           1   \n",
              "Potato_Early_blight                                           0   \n",
              "Potato_Late_blight                                            3   \n",
              "Potato_healthy                                                0   \n",
              "Tomato_Bacterial_spot                                         0   \n",
              "Tomato_Early_blight                                           3   \n",
              "Tomato_Late_blight                                           33   \n",
              "Tomato_Leaf_Mold                                              1   \n",
              "Tomato_Septoria_leaf_spot                                     1   \n",
              "Tomato_Spider_mites_Two_spotted_spider_mite                   0   \n",
              "Tomato_Target_Spot                                            0   \n",
              "Tomato_Tomato_YellowLeaf_Curl_Virus                           0   \n",
              "Tomato_Tomato_mosaic_virus                                    0   \n",
              "Tomato_healthy                                                0   \n",
              "\n",
              "                                             Tomato_Leaf_Mold  \\\n",
              "Pepper_bell_Bacterial_spot                                  0   \n",
              "Pepper_bell_healthy                                         0   \n",
              "Potato_Early_blight                                         0   \n",
              "Potato_Late_blight                                          0   \n",
              "Potato_healthy                                              0   \n",
              "Tomato_Bacterial_spot                                       1   \n",
              "Tomato_Early_blight                                         0   \n",
              "Tomato_Late_blight                                          0   \n",
              "Tomato_Leaf_Mold                                           52   \n",
              "Tomato_Septoria_leaf_spot                                   9   \n",
              "Tomato_Spider_mites_Two_spotted_spider_mite                 4   \n",
              "Tomato_Target_Spot                                          4   \n",
              "Tomato_Tomato_YellowLeaf_Curl_Virus                         0   \n",
              "Tomato_Tomato_mosaic_virus                                  0   \n",
              "Tomato_healthy                                              0   \n",
              "\n",
              "                                             Tomato_Septoria_leaf_spot  \\\n",
              "Pepper_bell_Bacterial_spot                                           1   \n",
              "Pepper_bell_healthy                                                  0   \n",
              "Potato_Early_blight                                                  0   \n",
              "Potato_Late_blight                                                   0   \n",
              "Potato_healthy                                                       0   \n",
              "Tomato_Bacterial_spot                                                0   \n",
              "Tomato_Early_blight                                                  0   \n",
              "Tomato_Late_blight                                                   0   \n",
              "Tomato_Leaf_Mold                                                     0   \n",
              "Tomato_Septoria_leaf_spot                                           23   \n",
              "Tomato_Spider_mites_Two_spotted_spider_mite                          0   \n",
              "Tomato_Target_Spot                                                   0   \n",
              "Tomato_Tomato_YellowLeaf_Curl_Virus                                  0   \n",
              "Tomato_Tomato_mosaic_virus                                           0   \n",
              "Tomato_healthy                                                       0   \n",
              "\n",
              "                                             Tomato_Spider_mites_Two_spotted_spider_mite  \\\n",
              "Pepper_bell_Bacterial_spot                                                             0   \n",
              "Pepper_bell_healthy                                                                    0   \n",
              "Potato_Early_blight                                                                    0   \n",
              "Potato_Late_blight                                                                     1   \n",
              "Potato_healthy                                                                         0   \n",
              "Tomato_Bacterial_spot                                                                  0   \n",
              "Tomato_Early_blight                                                                    1   \n",
              "Tomato_Late_blight                                                                     1   \n",
              "Tomato_Leaf_Mold                                                                       0   \n",
              "Tomato_Septoria_leaf_spot                                                              1   \n",
              "Tomato_Spider_mites_Two_spotted_spider_mite                                           36   \n",
              "Tomato_Target_Spot                                                                    16   \n",
              "Tomato_Tomato_YellowLeaf_Curl_Virus                                                    0   \n",
              "Tomato_Tomato_mosaic_virus                                                             0   \n",
              "Tomato_healthy                                                                         0   \n",
              "\n",
              "                                             Tomato_Target_Spot  \\\n",
              "Pepper_bell_Bacterial_spot                                    0   \n",
              "Pepper_bell_healthy                                           0   \n",
              "Potato_Early_blight                                           0   \n",
              "Potato_Late_blight                                            0   \n",
              "Potato_healthy                                                0   \n",
              "Tomato_Bacterial_spot                                         0   \n",
              "Tomato_Early_blight                                           0   \n",
              "Tomato_Late_blight                                            0   \n",
              "Tomato_Leaf_Mold                                              0   \n",
              "Tomato_Septoria_leaf_spot                                     0   \n",
              "Tomato_Spider_mites_Two_spotted_spider_mite                   0   \n",
              "Tomato_Target_Spot                                           17   \n",
              "Tomato_Tomato_YellowLeaf_Curl_Virus                           0   \n",
              "Tomato_Tomato_mosaic_virus                                    0   \n",
              "Tomato_healthy                                                0   \n",
              "\n",
              "                                             Tomato_Tomato_YellowLeaf_Curl_Virus  \\\n",
              "Pepper_bell_Bacterial_spot                                                     0   \n",
              "Pepper_bell_healthy                                                            0   \n",
              "Potato_Early_blight                                                            0   \n",
              "Potato_Late_blight                                                             0   \n",
              "Potato_healthy                                                                 0   \n",
              "Tomato_Bacterial_spot                                                          2   \n",
              "Tomato_Early_blight                                                            0   \n",
              "Tomato_Late_blight                                                             0   \n",
              "Tomato_Leaf_Mold                                                               1   \n",
              "Tomato_Septoria_leaf_spot                                                      1   \n",
              "Tomato_Spider_mites_Two_spotted_spider_mite                                    0   \n",
              "Tomato_Target_Spot                                                             0   \n",
              "Tomato_Tomato_YellowLeaf_Curl_Virus                                           32   \n",
              "Tomato_Tomato_mosaic_virus                                                     0   \n",
              "Tomato_healthy                                                                 0   \n",
              "\n",
              "                                             Tomato_Tomato_mosaic_virus  \\\n",
              "Pepper_bell_Bacterial_spot                                            0   \n",
              "Pepper_bell_healthy                                                   0   \n",
              "Potato_Early_blight                                                   0   \n",
              "Potato_Late_blight                                                    0   \n",
              "Potato_healthy                                                        0   \n",
              "Tomato_Bacterial_spot                                                 0   \n",
              "Tomato_Early_blight                                                   0   \n",
              "Tomato_Late_blight                                                    0   \n",
              "Tomato_Leaf_Mold                                                      0   \n",
              "Tomato_Septoria_leaf_spot                                             0   \n",
              "Tomato_Spider_mites_Two_spotted_spider_mite                           0   \n",
              "Tomato_Target_Spot                                                    1   \n",
              "Tomato_Tomato_YellowLeaf_Curl_Virus                                   0   \n",
              "Tomato_Tomato_mosaic_virus                                           39   \n",
              "Tomato_healthy                                                        0   \n",
              "\n",
              "                                             Tomato_healthy  \n",
              "Pepper_bell_Bacterial_spot                                0  \n",
              "Pepper_bell_healthy                                       0  \n",
              "Potato_Early_blight                                       0  \n",
              "Potato_Late_blight                                        1  \n",
              "Potato_healthy                                            0  \n",
              "Tomato_Bacterial_spot                                     0  \n",
              "Tomato_Early_blight                                       0  \n",
              "Tomato_Late_blight                                        4  \n",
              "Tomato_Leaf_Mold                                          0  \n",
              "Tomato_Septoria_leaf_spot                                 0  \n",
              "Tomato_Spider_mites_Two_spotted_spider_mite               0  \n",
              "Tomato_Target_Spot                                        8  \n",
              "Tomato_Tomato_YellowLeaf_Curl_Virus                       0  \n",
              "Tomato_Tomato_mosaic_virus                                0  \n",
              "Tomato_healthy                                           30  "
            ],
            "text/html": [
              "\n",
              "  <div id=\"df-e81cc094-5d13-478a-973e-ca20d7575d9a\">\n",
              "    <div class=\"colab-df-container\">\n",
              "      <div>\n",
              "<style scoped>\n",
              "    .dataframe tbody tr th:only-of-type {\n",
              "        vertical-align: middle;\n",
              "    }\n",
              "\n",
              "    .dataframe tbody tr th {\n",
              "        vertical-align: top;\n",
              "    }\n",
              "\n",
              "    .dataframe thead th {\n",
              "        text-align: right;\n",
              "    }\n",
              "</style>\n",
              "<table border=\"1\" class=\"dataframe\">\n",
              "  <thead>\n",
              "    <tr style=\"text-align: right;\">\n",
              "      <th></th>\n",
              "      <th>Pepper_bell_Bacterial_spot</th>\n",
              "      <th>Pepper_bell_healthy</th>\n",
              "      <th>Potato_Early_blight</th>\n",
              "      <th>Potato_Late_blight</th>\n",
              "      <th>Potato_healthy</th>\n",
              "      <th>Tomato_Bacterial_spot</th>\n",
              "      <th>Tomato_Early_blight</th>\n",
              "      <th>Tomato_Late_blight</th>\n",
              "      <th>Tomato_Leaf_Mold</th>\n",
              "      <th>Tomato_Septoria_leaf_spot</th>\n",
              "      <th>Tomato_Spider_mites_Two_spotted_spider_mite</th>\n",
              "      <th>Tomato_Target_Spot</th>\n",
              "      <th>Tomato_Tomato_YellowLeaf_Curl_Virus</th>\n",
              "      <th>Tomato_Tomato_mosaic_virus</th>\n",
              "      <th>Tomato_healthy</th>\n",
              "    </tr>\n",
              "  </thead>\n",
              "  <tbody>\n",
              "    <tr>\n",
              "      <th>Pepper_bell_Bacterial_spot</th>\n",
              "      <td>44</td>\n",
              "      <td>0</td>\n",
              "      <td>0</td>\n",
              "      <td>0</td>\n",
              "      <td>0</td>\n",
              "      <td>0</td>\n",
              "      <td>1</td>\n",
              "      <td>0</td>\n",
              "      <td>0</td>\n",
              "      <td>1</td>\n",
              "      <td>0</td>\n",
              "      <td>0</td>\n",
              "      <td>0</td>\n",
              "      <td>0</td>\n",
              "      <td>0</td>\n",
              "    </tr>\n",
              "    <tr>\n",
              "      <th>Pepper_bell_healthy</th>\n",
              "      <td>0</td>\n",
              "      <td>37</td>\n",
              "      <td>0</td>\n",
              "      <td>0</td>\n",
              "      <td>0</td>\n",
              "      <td>0</td>\n",
              "      <td>0</td>\n",
              "      <td>1</td>\n",
              "      <td>0</td>\n",
              "      <td>0</td>\n",
              "      <td>0</td>\n",
              "      <td>0</td>\n",
              "      <td>0</td>\n",
              "      <td>0</td>\n",
              "      <td>0</td>\n",
              "    </tr>\n",
              "    <tr>\n",
              "      <th>Potato_Early_blight</th>\n",
              "      <td>0</td>\n",
              "      <td>0</td>\n",
              "      <td>31</td>\n",
              "      <td>0</td>\n",
              "      <td>0</td>\n",
              "      <td>0</td>\n",
              "      <td>0</td>\n",
              "      <td>0</td>\n",
              "      <td>0</td>\n",
              "      <td>0</td>\n",
              "      <td>0</td>\n",
              "      <td>0</td>\n",
              "      <td>0</td>\n",
              "      <td>0</td>\n",
              "      <td>0</td>\n",
              "    </tr>\n",
              "    <tr>\n",
              "      <th>Potato_Late_blight</th>\n",
              "      <td>1</td>\n",
              "      <td>0</td>\n",
              "      <td>2</td>\n",
              "      <td>28</td>\n",
              "      <td>0</td>\n",
              "      <td>0</td>\n",
              "      <td>0</td>\n",
              "      <td>3</td>\n",
              "      <td>0</td>\n",
              "      <td>0</td>\n",
              "      <td>1</td>\n",
              "      <td>0</td>\n",
              "      <td>0</td>\n",
              "      <td>0</td>\n",
              "      <td>1</td>\n",
              "    </tr>\n",
              "    <tr>\n",
              "      <th>Potato_healthy</th>\n",
              "      <td>0</td>\n",
              "      <td>0</td>\n",
              "      <td>0</td>\n",
              "      <td>0</td>\n",
              "      <td>27</td>\n",
              "      <td>0</td>\n",
              "      <td>0</td>\n",
              "      <td>0</td>\n",
              "      <td>0</td>\n",
              "      <td>0</td>\n",
              "      <td>0</td>\n",
              "      <td>0</td>\n",
              "      <td>0</td>\n",
              "      <td>0</td>\n",
              "      <td>0</td>\n",
              "    </tr>\n",
              "    <tr>\n",
              "      <th>Tomato_Bacterial_spot</th>\n",
              "      <td>0</td>\n",
              "      <td>0</td>\n",
              "      <td>0</td>\n",
              "      <td>0</td>\n",
              "      <td>0</td>\n",
              "      <td>44</td>\n",
              "      <td>0</td>\n",
              "      <td>0</td>\n",
              "      <td>1</td>\n",
              "      <td>0</td>\n",
              "      <td>0</td>\n",
              "      <td>0</td>\n",
              "      <td>2</td>\n",
              "      <td>0</td>\n",
              "      <td>0</td>\n",
              "    </tr>\n",
              "    <tr>\n",
              "      <th>Tomato_Early_blight</th>\n",
              "      <td>1</td>\n",
              "      <td>1</td>\n",
              "      <td>0</td>\n",
              "      <td>0</td>\n",
              "      <td>0</td>\n",
              "      <td>0</td>\n",
              "      <td>31</td>\n",
              "      <td>3</td>\n",
              "      <td>0</td>\n",
              "      <td>0</td>\n",
              "      <td>1</td>\n",
              "      <td>0</td>\n",
              "      <td>0</td>\n",
              "      <td>0</td>\n",
              "      <td>0</td>\n",
              "    </tr>\n",
              "    <tr>\n",
              "      <th>Tomato_Late_blight</th>\n",
              "      <td>0</td>\n",
              "      <td>0</td>\n",
              "      <td>1</td>\n",
              "      <td>0</td>\n",
              "      <td>0</td>\n",
              "      <td>2</td>\n",
              "      <td>4</td>\n",
              "      <td>33</td>\n",
              "      <td>0</td>\n",
              "      <td>0</td>\n",
              "      <td>1</td>\n",
              "      <td>0</td>\n",
              "      <td>0</td>\n",
              "      <td>0</td>\n",
              "      <td>4</td>\n",
              "    </tr>\n",
              "    <tr>\n",
              "      <th>Tomato_Leaf_Mold</th>\n",
              "      <td>0</td>\n",
              "      <td>0</td>\n",
              "      <td>0</td>\n",
              "      <td>0</td>\n",
              "      <td>0</td>\n",
              "      <td>0</td>\n",
              "      <td>0</td>\n",
              "      <td>1</td>\n",
              "      <td>52</td>\n",
              "      <td>0</td>\n",
              "      <td>0</td>\n",
              "      <td>0</td>\n",
              "      <td>1</td>\n",
              "      <td>0</td>\n",
              "      <td>0</td>\n",
              "    </tr>\n",
              "    <tr>\n",
              "      <th>Tomato_Septoria_leaf_spot</th>\n",
              "      <td>1</td>\n",
              "      <td>1</td>\n",
              "      <td>0</td>\n",
              "      <td>0</td>\n",
              "      <td>0</td>\n",
              "      <td>0</td>\n",
              "      <td>1</td>\n",
              "      <td>1</td>\n",
              "      <td>9</td>\n",
              "      <td>23</td>\n",
              "      <td>1</td>\n",
              "      <td>0</td>\n",
              "      <td>1</td>\n",
              "      <td>0</td>\n",
              "      <td>0</td>\n",
              "    </tr>\n",
              "    <tr>\n",
              "      <th>Tomato_Spider_mites_Two_spotted_spider_mite</th>\n",
              "      <td>0</td>\n",
              "      <td>0</td>\n",
              "      <td>0</td>\n",
              "      <td>0</td>\n",
              "      <td>0</td>\n",
              "      <td>0</td>\n",
              "      <td>0</td>\n",
              "      <td>0</td>\n",
              "      <td>4</td>\n",
              "      <td>0</td>\n",
              "      <td>36</td>\n",
              "      <td>0</td>\n",
              "      <td>0</td>\n",
              "      <td>0</td>\n",
              "      <td>0</td>\n",
              "    </tr>\n",
              "    <tr>\n",
              "      <th>Tomato_Target_Spot</th>\n",
              "      <td>0</td>\n",
              "      <td>1</td>\n",
              "      <td>0</td>\n",
              "      <td>0</td>\n",
              "      <td>1</td>\n",
              "      <td>0</td>\n",
              "      <td>3</td>\n",
              "      <td>0</td>\n",
              "      <td>4</td>\n",
              "      <td>0</td>\n",
              "      <td>16</td>\n",
              "      <td>17</td>\n",
              "      <td>0</td>\n",
              "      <td>1</td>\n",
              "      <td>8</td>\n",
              "    </tr>\n",
              "    <tr>\n",
              "      <th>Tomato_Tomato_YellowLeaf_Curl_Virus</th>\n",
              "      <td>0</td>\n",
              "      <td>0</td>\n",
              "      <td>0</td>\n",
              "      <td>0</td>\n",
              "      <td>0</td>\n",
              "      <td>0</td>\n",
              "      <td>0</td>\n",
              "      <td>0</td>\n",
              "      <td>0</td>\n",
              "      <td>0</td>\n",
              "      <td>0</td>\n",
              "      <td>0</td>\n",
              "      <td>32</td>\n",
              "      <td>0</td>\n",
              "      <td>0</td>\n",
              "    </tr>\n",
              "    <tr>\n",
              "      <th>Tomato_Tomato_mosaic_virus</th>\n",
              "      <td>0</td>\n",
              "      <td>0</td>\n",
              "      <td>0</td>\n",
              "      <td>0</td>\n",
              "      <td>0</td>\n",
              "      <td>0</td>\n",
              "      <td>0</td>\n",
              "      <td>0</td>\n",
              "      <td>0</td>\n",
              "      <td>0</td>\n",
              "      <td>0</td>\n",
              "      <td>0</td>\n",
              "      <td>0</td>\n",
              "      <td>39</td>\n",
              "      <td>0</td>\n",
              "    </tr>\n",
              "    <tr>\n",
              "      <th>Tomato_healthy</th>\n",
              "      <td>0</td>\n",
              "      <td>0</td>\n",
              "      <td>0</td>\n",
              "      <td>0</td>\n",
              "      <td>0</td>\n",
              "      <td>0</td>\n",
              "      <td>0</td>\n",
              "      <td>0</td>\n",
              "      <td>0</td>\n",
              "      <td>0</td>\n",
              "      <td>0</td>\n",
              "      <td>0</td>\n",
              "      <td>0</td>\n",
              "      <td>0</td>\n",
              "      <td>30</td>\n",
              "    </tr>\n",
              "  </tbody>\n",
              "</table>\n",
              "</div>\n",
              "      <button class=\"colab-df-convert\" onclick=\"convertToInteractive('df-e81cc094-5d13-478a-973e-ca20d7575d9a')\"\n",
              "              title=\"Convert this dataframe to an interactive table.\"\n",
              "              style=\"display:none;\">\n",
              "        \n",
              "  <svg xmlns=\"http://www.w3.org/2000/svg\" height=\"24px\"viewBox=\"0 0 24 24\"\n",
              "       width=\"24px\">\n",
              "    <path d=\"M0 0h24v24H0V0z\" fill=\"none\"/>\n",
              "    <path d=\"M18.56 5.44l.94 2.06.94-2.06 2.06-.94-2.06-.94-.94-2.06-.94 2.06-2.06.94zm-11 1L8.5 8.5l.94-2.06 2.06-.94-2.06-.94L8.5 2.5l-.94 2.06-2.06.94zm10 10l.94 2.06.94-2.06 2.06-.94-2.06-.94-.94-2.06-.94 2.06-2.06.94z\"/><path d=\"M17.41 7.96l-1.37-1.37c-.4-.4-.92-.59-1.43-.59-.52 0-1.04.2-1.43.59L10.3 9.45l-7.72 7.72c-.78.78-.78 2.05 0 2.83L4 21.41c.39.39.9.59 1.41.59.51 0 1.02-.2 1.41-.59l7.78-7.78 2.81-2.81c.8-.78.8-2.07 0-2.86zM5.41 20L4 18.59l7.72-7.72 1.47 1.35L5.41 20z\"/>\n",
              "  </svg>\n",
              "      </button>\n",
              "      \n",
              "  <style>\n",
              "    .colab-df-container {\n",
              "      display:flex;\n",
              "      flex-wrap:wrap;\n",
              "      gap: 12px;\n",
              "    }\n",
              "\n",
              "    .colab-df-convert {\n",
              "      background-color: #E8F0FE;\n",
              "      border: none;\n",
              "      border-radius: 50%;\n",
              "      cursor: pointer;\n",
              "      display: none;\n",
              "      fill: #1967D2;\n",
              "      height: 32px;\n",
              "      padding: 0 0 0 0;\n",
              "      width: 32px;\n",
              "    }\n",
              "\n",
              "    .colab-df-convert:hover {\n",
              "      background-color: #E2EBFA;\n",
              "      box-shadow: 0px 1px 2px rgba(60, 64, 67, 0.3), 0px 1px 3px 1px rgba(60, 64, 67, 0.15);\n",
              "      fill: #174EA6;\n",
              "    }\n",
              "\n",
              "    [theme=dark] .colab-df-convert {\n",
              "      background-color: #3B4455;\n",
              "      fill: #D2E3FC;\n",
              "    }\n",
              "\n",
              "    [theme=dark] .colab-df-convert:hover {\n",
              "      background-color: #434B5C;\n",
              "      box-shadow: 0px 1px 3px 1px rgba(0, 0, 0, 0.15);\n",
              "      filter: drop-shadow(0px 1px 2px rgba(0, 0, 0, 0.3));\n",
              "      fill: #FFFFFF;\n",
              "    }\n",
              "  </style>\n",
              "\n",
              "      <script>\n",
              "        const buttonEl =\n",
              "          document.querySelector('#df-e81cc094-5d13-478a-973e-ca20d7575d9a button.colab-df-convert');\n",
              "        buttonEl.style.display =\n",
              "          google.colab.kernel.accessAllowed ? 'block' : 'none';\n",
              "\n",
              "        async function convertToInteractive(key) {\n",
              "          const element = document.querySelector('#df-e81cc094-5d13-478a-973e-ca20d7575d9a');\n",
              "          const dataTable =\n",
              "            await google.colab.kernel.invokeFunction('convertToInteractive',\n",
              "                                                     [key], {});\n",
              "          if (!dataTable) return;\n",
              "\n",
              "          const docLinkHtml = 'Like what you see? Visit the ' +\n",
              "            '<a target=\"_blank\" href=https://colab.research.google.com/notebooks/data_table.ipynb>data table notebook</a>'\n",
              "            + ' to learn more about interactive tables.';\n",
              "          element.innerHTML = '';\n",
              "          dataTable['output_type'] = 'display_data';\n",
              "          await google.colab.output.renderOutput(dataTable, element);\n",
              "          const docLink = document.createElement('div');\n",
              "          docLink.innerHTML = docLinkHtml;\n",
              "          element.appendChild(docLink);\n",
              "        }\n",
              "      </script>\n",
              "    </div>\n",
              "  </div>\n",
              "  "
            ]
          },
          "metadata": {},
          "execution_count": 96
        }
      ],
      "source": [
        "df_cm"
      ]
    },
    {
      "cell_type": "code",
      "execution_count": null,
      "metadata": {
        "colab": {
          "base_uri": "https://localhost:8080/",
          "height": 52
        },
        "id": "6CvxrculMcEK",
        "outputId": "d6d2d14f-ad39-4860-c5d4-339c4289e1e0"
      },
      "outputs": [
        {
          "output_type": "execute_result",
          "data": {
            "text/plain": [
              "<Figure size 720x504 with 0 Axes>"
            ]
          },
          "metadata": {},
          "execution_count": 90
        },
        {
          "output_type": "display_data",
          "data": {
            "text/plain": [
              "<Figure size 720x504 with 0 Axes>"
            ]
          },
          "metadata": {}
        }
      ],
      "source": [
        "plt.figure(figsize = (10,7))"
      ]
    },
    {
      "cell_type": "code",
      "execution_count": null,
      "metadata": {
        "colab": {
          "base_uri": "https://localhost:8080/"
        },
        "id": "q3ogtDWfMcEK",
        "outputId": "77da2a0c-64b3-4657-bd56-4de72a241d40"
      },
      "outputs": [
        {
          "output_type": "stream",
          "name": "stdout",
          "text": [
            "Looking in indexes: https://pypi.org/simple, https://us-python.pkg.dev/colab-wheels/public/simple/\n",
            "Requirement already satisfied: seaborn in /usr/local/lib/python3.8/dist-packages (0.11.2)\n",
            "Requirement already satisfied: pandas>=0.23 in /usr/local/lib/python3.8/dist-packages (from seaborn) (1.3.5)\n",
            "Requirement already satisfied: matplotlib>=2.2 in /usr/local/lib/python3.8/dist-packages (from seaborn) (3.2.2)\n",
            "Requirement already satisfied: numpy>=1.15 in /usr/local/lib/python3.8/dist-packages (from seaborn) (1.21.6)\n",
            "Requirement already satisfied: scipy>=1.0 in /usr/local/lib/python3.8/dist-packages (from seaborn) (1.7.3)\n",
            "Requirement already satisfied: pyparsing!=2.0.4,!=2.1.2,!=2.1.6,>=2.0.1 in /usr/local/lib/python3.8/dist-packages (from matplotlib>=2.2->seaborn) (3.0.9)\n",
            "Requirement already satisfied: kiwisolver>=1.0.1 in /usr/local/lib/python3.8/dist-packages (from matplotlib>=2.2->seaborn) (1.4.4)\n",
            "Requirement already satisfied: python-dateutil>=2.1 in /usr/local/lib/python3.8/dist-packages (from matplotlib>=2.2->seaborn) (2.8.2)\n",
            "Requirement already satisfied: cycler>=0.10 in /usr/local/lib/python3.8/dist-packages (from matplotlib>=2.2->seaborn) (0.11.0)\n",
            "Requirement already satisfied: pytz>=2017.3 in /usr/local/lib/python3.8/dist-packages (from pandas>=0.23->seaborn) (2022.7)\n",
            "Requirement already satisfied: six>=1.5 in /usr/local/lib/python3.8/dist-packages (from python-dateutil>=2.1->matplotlib>=2.2->seaborn) (1.15.0)\n"
          ]
        }
      ],
      "source": [
        "!pip install seaborn"
      ]
    },
    {
      "cell_type": "code",
      "execution_count": null,
      "metadata": {
        "id": "9-v5GFUNMcEK"
      },
      "outputs": [],
      "source": [
        "import seaborn as sn"
      ]
    },
    {
      "cell_type": "code",
      "execution_count": null,
      "metadata": {
        "colab": {
          "base_uri": "https://localhost:8080/",
          "height": 531
        },
        "id": "FmvnlN6pMcEL",
        "outputId": "39f0ac1a-f96c-4dec-e880-c195c277de95"
      },
      "outputs": [
        {
          "output_type": "execute_result",
          "data": {
            "text/plain": [
              "Text(32.093749999999986, 0.5, 'True Classes')"
            ]
          },
          "metadata": {},
          "execution_count": 98
        },
        {
          "output_type": "display_data",
          "data": {
            "text/plain": [
              "<Figure size 432x288 with 2 Axes>"
            ],
            "image/png": "[encoded data removed]"
          },
          "metadata": {
            "needs_background": "light"
          }
        }
      ],
      "source": [
        "confusion_matrics = sn.heatmap(df_cm, annot  =True)\n",
        "confusion_matrics.set_xlabel('Predicted Classes', fontsize=20)\n",
        "confusion_matrics.set_ylabel('True Classes', fontsize=20)"
      ]
    },
    {
      "cell_type": "code",
      "execution_count": null,
      "metadata": {
        "id": "s2h8ogM2McEL"
      },
      "outputs": [],
      "source": []
    }
  ],
  "metadata": {
    "colab": {
      "provenance": [],
      "include_colab_link": true
    },
    "kernelspec": {
      "display_name": "Python 3 (ipykernel)",
      "language": "python",
      "name": "python3"
    },
    "language_info": {
      "codemirror_mode": {
        "name": "ipython",
        "version": 3
      },
      "file_extension": ".py",
      "mimetype": "text/x-python",
      "name": "python",
      "nbconvert_exporter": "python",
      "pygments_lexer": "ipython3",
      "version": "3.8.15"
    },
    "accelerator": "GPU",
    "gpuClass": "standard"
  },
  "nbformat": 4,
  "nbformat_minor": 0
}